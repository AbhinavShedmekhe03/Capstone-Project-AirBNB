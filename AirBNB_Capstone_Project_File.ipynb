{
  "cells": [
    {
      "cell_type": "markdown",
      "metadata": {
        "id": "view-in-github",
        "colab_type": "text"
      },
      "source": [
        "<a href=\"https://colab.research.google.com/github/AbhinavShedmekhe03/Capstone-Project-AirBNB/blob/main/AirBNB_Capstone_Project_File.ipynb\" target=\"_parent\"><img src=\"https://colab.research.google.com/assets/colab-badge.svg\" alt=\"Open In Colab\"/></a>"
      ]
    },
    {
      "cell_type": "code",
      "execution_count": 1,
      "id": "41c18b8a",
      "metadata": {
        "id": "41c18b8a"
      },
      "outputs": [],
      "source": [
        "import pandas as pd\n",
        "import numpy as np"
      ]
    },
    {
      "cell_type": "code",
      "source": [],
      "metadata": {
        "id": "28gT_l3ClGwN"
      },
      "id": "28gT_l3ClGwN",
      "execution_count": null,
      "outputs": []
    },
    {
      "cell_type": "code",
      "source": [
        "from google.colab import drive\n",
        "drive.mount('/content/drive')"
      ],
      "metadata": {
        "colab": {
          "base_uri": "https://localhost:8080/"
        },
        "id": "zx5Nm1wYlLcn",
        "outputId": "4a0dc8fe-0778-49dc-fd26-5b1a38b2011c"
      },
      "id": "zx5Nm1wYlLcn",
      "execution_count": 2,
      "outputs": [
        {
          "output_type": "stream",
          "name": "stdout",
          "text": [
            "Mounted at /content/drive\n"
          ]
        }
      ]
    },
    {
      "cell_type": "code",
      "execution_count": null,
      "id": "83e99942",
      "metadata": {
        "id": "83e99942"
      },
      "outputs": [],
      "source": [
        "listings = pd.read_csv('listings.csv')\n",
        "hosts = pd.read_csv('hosts.csv')\n",
        "reviews = pd.read_csv('reviews.csv')\n",
        "calendar = pd.read_csv('calendar.csv')"
      ]
    },
    {
      "cell_type": "markdown",
      "id": "6fa0ef34",
      "metadata": {
        "id": "6fa0ef34"
      },
      "source": [
        "# PROBLEM STATEMENTS"
      ]
    },
    {
      "cell_type": "markdown",
      "id": "cb39f366",
      "metadata": {
        "id": "cb39f366"
      },
      "source": [
        "**PROBLEM 1**\n",
        "\n",
        "Look at the table Calendar how many rows and unique listing ids are present? Are\n",
        "there any implications when it comes to having more rows and less unique listing\n",
        "ids?"
      ]
    },
    {
      "cell_type": "code",
      "execution_count": null,
      "id": "f5991b4e",
      "metadata": {
        "id": "f5991b4e",
        "outputId": "567dc9c6-92b7-476e-feca-73c901974f9f"
      },
      "outputs": [
        {
          "data": {
            "text/plain": [
              "(319192, 8)"
            ]
          },
          "execution_count": 3,
          "metadata": {},
          "output_type": "execute_result"
        }
      ],
      "source": [
        "calendar.shape"
      ]
    },
    {
      "cell_type": "code",
      "execution_count": null,
      "id": "5404a225",
      "metadata": {
        "id": "5404a225",
        "outputId": "fb30a0cb-4141-4696-f0f2-6a8cad01cd69"
      },
      "outputs": [
        {
          "data": {
            "text/html": [
              "<div>\n",
              "<style scoped>\n",
              "    .dataframe tbody tr th:only-of-type {\n",
              "        vertical-align: middle;\n",
              "    }\n",
              "\n",
              "    .dataframe tbody tr th {\n",
              "        vertical-align: top;\n",
              "    }\n",
              "\n",
              "    .dataframe thead th {\n",
              "        text-align: right;\n",
              "    }\n",
              "</style>\n",
              "<table border=\"1\" class=\"dataframe\">\n",
              "  <thead>\n",
              "    <tr style=\"text-align: right;\">\n",
              "      <th></th>\n",
              "      <th>calender_id</th>\n",
              "      <th>listing_id</th>\n",
              "      <th>date</th>\n",
              "      <th>available</th>\n",
              "      <th>price</th>\n",
              "      <th>adjusted_price</th>\n",
              "      <th>minimum_nights</th>\n",
              "      <th>maximum_nights</th>\n",
              "    </tr>\n",
              "  </thead>\n",
              "  <tbody>\n",
              "    <tr>\n",
              "      <th>0</th>\n",
              "      <td>1</td>\n",
              "      <td>40334325</td>\n",
              "      <td>2022-08-03 00:00:00.000000</td>\n",
              "      <td>0</td>\n",
              "      <td>56.0</td>\n",
              "      <td>56.0</td>\n",
              "      <td>3</td>\n",
              "      <td>5</td>\n",
              "    </tr>\n",
              "    <tr>\n",
              "      <th>1</th>\n",
              "      <td>2</td>\n",
              "      <td>22742449</td>\n",
              "      <td>2022-11-13 00:00:00.000000</td>\n",
              "      <td>1</td>\n",
              "      <td>95.0</td>\n",
              "      <td>95.0</td>\n",
              "      <td>2</td>\n",
              "      <td>99</td>\n",
              "    </tr>\n",
              "    <tr>\n",
              "      <th>2</th>\n",
              "      <td>3</td>\n",
              "      <td>34621717</td>\n",
              "      <td>2022-04-17 00:00:00.000000</td>\n",
              "      <td>0</td>\n",
              "      <td>75.0</td>\n",
              "      <td>75.0</td>\n",
              "      <td>2</td>\n",
              "      <td>1125</td>\n",
              "    </tr>\n",
              "    <tr>\n",
              "      <th>3</th>\n",
              "      <td>4</td>\n",
              "      <td>38281744</td>\n",
              "      <td>2022-01-31 00:00:00.000000</td>\n",
              "      <td>1</td>\n",
              "      <td>150.0</td>\n",
              "      <td>150.0</td>\n",
              "      <td>1</td>\n",
              "      <td>1000</td>\n",
              "    </tr>\n",
              "    <tr>\n",
              "      <th>4</th>\n",
              "      <td>5</td>\n",
              "      <td>18835003</td>\n",
              "      <td>2022-05-21 00:00:00.000000</td>\n",
              "      <td>0</td>\n",
              "      <td>100.0</td>\n",
              "      <td>100.0</td>\n",
              "      <td>2</td>\n",
              "      <td>1125</td>\n",
              "    </tr>\n",
              "  </tbody>\n",
              "</table>\n",
              "</div>"
            ],
            "text/plain": [
              "   calender_id  listing_id                        date  available  price  \\\n",
              "0            1    40334325  2022-08-03 00:00:00.000000          0   56.0   \n",
              "1            2    22742449  2022-11-13 00:00:00.000000          1   95.0   \n",
              "2            3    34621717  2022-04-17 00:00:00.000000          0   75.0   \n",
              "3            4    38281744  2022-01-31 00:00:00.000000          1  150.0   \n",
              "4            5    18835003  2022-05-21 00:00:00.000000          0  100.0   \n",
              "\n",
              "   adjusted_price  minimum_nights  maximum_nights  \n",
              "0            56.0               3               5  \n",
              "1            95.0               2              99  \n",
              "2            75.0               2            1125  \n",
              "3           150.0               1            1000  \n",
              "4           100.0               2            1125  "
            ]
          },
          "execution_count": 4,
          "metadata": {},
          "output_type": "execute_result"
        }
      ],
      "source": [
        "calendar.head(5)"
      ]
    },
    {
      "cell_type": "code",
      "execution_count": null,
      "id": "fe4d7c2e",
      "metadata": {
        "id": "fe4d7c2e",
        "outputId": "73dcc687-9e16-439f-db75-40674e213c65"
      },
      "outputs": [
        {
          "name": "stdout",
          "output_type": "stream",
          "text": [
            "<class 'pandas.core.frame.DataFrame'>\n",
            "RangeIndex: 319192 entries, 0 to 319191\n",
            "Data columns (total 8 columns):\n",
            " #   Column          Non-Null Count   Dtype  \n",
            "---  ------          --------------   -----  \n",
            " 0   calender_id     319192 non-null  int64  \n",
            " 1   listing_id      319192 non-null  int64  \n",
            " 2   date            319192 non-null  object \n",
            " 3   available       319192 non-null  int64  \n",
            " 4   price           319117 non-null  float64\n",
            " 5   adjusted_price  319117 non-null  float64\n",
            " 6   minimum_nights  319192 non-null  int64  \n",
            " 7   maximum_nights  319192 non-null  int64  \n",
            "dtypes: float64(2), int64(5), object(1)\n",
            "memory usage: 19.5+ MB\n"
          ]
        }
      ],
      "source": [
        "calendar.info()"
      ]
    },
    {
      "cell_type": "code",
      "execution_count": null,
      "id": "2cf205b5",
      "metadata": {
        "id": "2cf205b5",
        "outputId": "5c3e25cc-4e60-4bae-fd40-1ed874db7499"
      },
      "outputs": [
        {
          "data": {
            "text/plain": [
              "1749"
            ]
          },
          "execution_count": 6,
          "metadata": {},
          "output_type": "execute_result"
        }
      ],
      "source": [
        "calendar['listing_id'].nunique()"
      ]
    },
    {
      "cell_type": "markdown",
      "id": "c34e4746",
      "metadata": {
        "id": "c34e4746"
      },
      "source": [
        "Upon inspection, it is found that calendar dataset has 319192 rows in total whereas there are only 1749 unique listing IDs. Which could imply below mentioned points:\n",
        "\n",
        "1. There are multiple listings for individual listing IDs which could provide detailed information about the the availability and pricing over the time period.\n",
        "2. Having multiple unique listing IDs could also provide insight into the price trend over time.\n",
        "3. On the other hand we also need to check for the data redundecy which could result in poor ML model."
      ]
    },
    {
      "cell_type": "markdown",
      "id": "4327e663",
      "metadata": {
        "id": "4327e663"
      },
      "source": [
        "**Data Summary for Calendar Table:**\n",
        "\n",
        "- **Rows**: 319,192\n",
        "- **Columns**: 8\n",
        "- **Unique Listing IDs**: 1,749\n",
        "- **Data Types**: Float64, Int64, Object\n",
        "- **Missing Values**: Some in 'price' and 'adjusted_price'\n",
        "- **Implications**: Granular availability and pricing data over time; potential redundancy with multiple rows per listing.\n"
      ]
    },
    {
      "cell_type": "markdown",
      "id": "790dedb5",
      "metadata": {
        "id": "790dedb5"
      },
      "source": [
        "**PROBLEM 2**\n",
        "\n",
        "Look at the price column in Calendar table. What transformations you will need to\n",
        "perform so that you can create a column that can be used as a target/response\n",
        "variable?"
      ]
    },
    {
      "cell_type": "code",
      "execution_count": null,
      "id": "5b5f86b6",
      "metadata": {
        "id": "5b5f86b6",
        "outputId": "92abc2c7-9d1f-4319-f34a-e62364c6734c"
      },
      "outputs": [
        {
          "data": {
            "text/plain": [
              "75"
            ]
          },
          "execution_count": 7,
          "metadata": {},
          "output_type": "execute_result"
        }
      ],
      "source": [
        "calendar['price'].isnull().sum()"
      ]
    },
    {
      "cell_type": "code",
      "execution_count": null,
      "id": "6b8263b8",
      "metadata": {
        "id": "6b8263b8",
        "outputId": "f3326f24-992a-416b-c151-47c769566bab"
      },
      "outputs": [
        {
          "data": {
            "text/plain": [
              "count    319117.000000\n",
              "mean        109.917779\n",
              "std         185.791168\n",
              "min          13.000000\n",
              "25%          59.000000\n",
              "50%          79.000000\n",
              "75%         115.000000\n",
              "max        5800.000000\n",
              "Name: price, dtype: float64"
            ]
          },
          "execution_count": 8,
          "metadata": {},
          "output_type": "execute_result"
        }
      ],
      "source": [
        "calendar['price'].describe()"
      ]
    },
    {
      "cell_type": "code",
      "execution_count": null,
      "id": "d4910974",
      "metadata": {
        "id": "d4910974"
      },
      "outputs": [],
      "source": [
        "#calendar['adjusted_price'].describe()"
      ]
    },
    {
      "cell_type": "code",
      "execution_count": null,
      "id": "528798de",
      "metadata": {
        "scrolled": false,
        "id": "528798de",
        "outputId": "3f294d72-6ec6-460e-b857-52f18b01cf6f"
      },
      "outputs": [
        {
          "data": {
            "text/plain": [
              "<Axes: >"
            ]
          },
          "execution_count": 10,
          "metadata": {},
          "output_type": "execute_result"
        },
        {
          "data": {
            "image/png": "[encoded data removed]",
            "text/plain": [
              "<Figure size 640x480 with 1 Axes>"
            ]
          },
          "metadata": {},
          "output_type": "display_data"
        }
      ],
      "source": [
        "calendar['price'].plot(kind='box')"
      ]
    },
    {
      "cell_type": "code",
      "execution_count": null,
      "id": "2900939d",
      "metadata": {
        "id": "2900939d",
        "outputId": "df262c57-63e5-4dd9-b0ad-c52b7cdaddeb"
      },
      "outputs": [
        {
          "data": {
            "text/plain": [
              "<Axes: ylabel='Density'>"
            ]
          },
          "execution_count": 11,
          "metadata": {},
          "output_type": "execute_result"
        },
        {
          "data": {
            "image/png": "[encoded data removed]",
            "text/plain": [
              "<Figure size 640x480 with 1 Axes>"
            ]
          },
          "metadata": {},
          "output_type": "display_data"
        }
      ],
      "source": [
        "calendar[['price','adjusted_price']].plot(kind='kde')"
      ]
    },
    {
      "cell_type": "code",
      "execution_count": null,
      "id": "0f521288",
      "metadata": {
        "id": "0f521288",
        "outputId": "9bcfed4b-62e0-478a-d156-cf4fe4084ba8"
      },
      "outputs": [
        {
          "data": {
            "text/plain": [
              "19.171456826061497"
            ]
          },
          "execution_count": 12,
          "metadata": {},
          "output_type": "execute_result"
        }
      ],
      "source": [
        "calendar['price'].skew()"
      ]
    },
    {
      "cell_type": "markdown",
      "id": "5ccbb55e",
      "metadata": {
        "id": "5ccbb55e"
      },
      "source": [
        "From the following investigation on the calendar dataset, it is recommened to apply the below given transformation techniques:\n",
        "1. Converting 'date' to datetime\n",
        "2. Handle the missing vales by imputation with median\n",
        "3. Handle the outliers to eliminate the extreme values\n",
        "4. Consider applying log transformation to reduce skewness as at present is 19.17 which is highly skewed.\n",
        "\n",
        "**NOTE**\n",
        "\n",
        "In this scenario a skewness of 19.17 shows highly positive skewed curve which implies that the majority of the data points are concentrated on the lower end of the distribution, with few extreme values dragging the mean towards the right i.e **109**."
      ]
    },
    {
      "cell_type": "markdown",
      "id": "1a98e2dd",
      "metadata": {
        "id": "1a98e2dd"
      },
      "source": [
        "**Convering 'date' to datetime in Calendar dataset**"
      ]
    },
    {
      "cell_type": "code",
      "execution_count": null,
      "id": "bd376168",
      "metadata": {
        "id": "bd376168"
      },
      "outputs": [],
      "source": [
        "calendar['date'] = pd.to_datetime(calendar['date'])"
      ]
    },
    {
      "cell_type": "markdown",
      "id": "74b0f5f4",
      "metadata": {
        "id": "74b0f5f4"
      },
      "source": [
        "**Applying Transformation of 'adjusted_price' column of Calendar dataset.**"
      ]
    },
    {
      "cell_type": "code",
      "execution_count": null,
      "id": "3e857f28",
      "metadata": {
        "id": "3e857f28",
        "outputId": "f43934bc-15e3-4f2d-8ae9-24eb50f00d11"
      },
      "outputs": [
        {
          "data": {
            "text/plain": [
              "0"
            ]
          },
          "execution_count": 14,
          "metadata": {},
          "output_type": "execute_result"
        }
      ],
      "source": [
        "# handling missing values\n",
        "calendar['adjusted_price'].fillna(calendar['adjusted_price'].median(), inplace=True)\n",
        "\n",
        "# checking for the result\n",
        "calendar['adjusted_price'].isnull().sum()"
      ]
    },
    {
      "cell_type": "code",
      "execution_count": null,
      "id": "364297e0",
      "metadata": {
        "id": "364297e0"
      },
      "outputs": [],
      "source": [
        "# handling outliers\n",
        "q1 = calendar['adjusted_price'].quantile(0.25)\n",
        "q3 = calendar['adjusted_price'].quantile(0.75)\n",
        "IQR = q3 - q1\n",
        "\n",
        "lower_bound = q1 - 1.5*IQR\n",
        "upper_bound = q3 + 1.5*IQR\n",
        "calendar['adjusted_price'] = calendar['adjusted_price'].apply(lambda x: upper_bound if x > upper_bound else (lower_bound if x < lower_bound else x))"
      ]
    },
    {
      "cell_type": "code",
      "execution_count": null,
      "id": "6f97a9ce",
      "metadata": {
        "scrolled": false,
        "id": "6f97a9ce",
        "outputId": "5ee494ed-8221-4c0b-de96-49c9fbe11699"
      },
      "outputs": [
        {
          "data": {
            "text/plain": [
              "<Axes: ylabel='Density'>"
            ]
          },
          "execution_count": 16,
          "metadata": {},
          "output_type": "execute_result"
        },
        {
          "data": {
            "image/png": "[encoded data removed]",
            "text/plain": [
              "<Figure size 640x480 with 1 Axes>"
            ]
          },
          "metadata": {},
          "output_type": "display_data"
        }
      ],
      "source": [
        "calendar['adjusted_price'].plot(kind='kde')"
      ]
    },
    {
      "cell_type": "code",
      "execution_count": null,
      "id": "6df2c236",
      "metadata": {
        "id": "6df2c236",
        "outputId": "d9214be3-6015-412e-9982-1fb5971ad384"
      },
      "outputs": [
        {
          "data": {
            "text/plain": [
              "0.997556754497966"
            ]
          },
          "execution_count": 17,
          "metadata": {},
          "output_type": "execute_result"
        }
      ],
      "source": [
        "calendar['adjusted_price'].skew()"
      ]
    },
    {
      "cell_type": "code",
      "execution_count": null,
      "id": "5ec0653f",
      "metadata": {
        "id": "5ec0653f"
      },
      "outputs": [],
      "source": [
        "# applying log transformation\n",
        "calendar['adjusted_price_log'] = np.log1p(calendar['adjusted_price'])"
      ]
    },
    {
      "cell_type": "code",
      "execution_count": null,
      "id": "ee252aff",
      "metadata": {
        "id": "ee252aff",
        "outputId": "cbfae795-924e-468b-ffab-245c6d8449d4"
      },
      "outputs": [
        {
          "name": "stdout",
          "output_type": "stream",
          "text": [
            "Skewness of 'adjusted_price' column after log transformation : -0.03668620530881758\n"
          ]
        }
      ],
      "source": [
        "# checking the skewness after log transformation\n",
        "skewness_after_log_transformation = calendar['adjusted_price_log'].skew()\n",
        "print(\"Skewness of 'adjusted_price' column after log transformation :\", skewness_after_log_transformation)"
      ]
    },
    {
      "cell_type": "markdown",
      "id": "397bab10",
      "metadata": {
        "id": "397bab10"
      },
      "source": [
        "**PROBLEM 3**\n",
        "\n",
        "Look at the tables Listings, Hosts and Reviews to come up with a list of potential\n",
        "transformations needed in order to have predictors that can be used to predict the\n",
        "listing price."
      ]
    },
    {
      "cell_type": "markdown",
      "id": "4f3b9e4f",
      "metadata": {
        "id": "4f3b9e4f"
      },
      "source": [
        "Let's start off with, **'listings'** dataset"
      ]
    },
    {
      "cell_type": "code",
      "execution_count": null,
      "id": "b8fcd1d4",
      "metadata": {
        "id": "b8fcd1d4",
        "outputId": "25538a21-bfe0-48bd-f533-2c626c34ce51"
      },
      "outputs": [
        {
          "data": {
            "text/plain": [
              "(1749, 14)"
            ]
          },
          "execution_count": 20,
          "metadata": {},
          "output_type": "execute_result"
        }
      ],
      "source": [
        "listings.shape"
      ]
    },
    {
      "cell_type": "code",
      "execution_count": null,
      "id": "727cee76",
      "metadata": {
        "id": "727cee76",
        "outputId": "24db61f1-6a78-480d-8525-0af9d5a215a4"
      },
      "outputs": [
        {
          "data": {
            "text/html": [
              "<div>\n",
              "<style scoped>\n",
              "    .dataframe tbody tr th:only-of-type {\n",
              "        vertical-align: middle;\n",
              "    }\n",
              "\n",
              "    .dataframe tbody tr th {\n",
              "        vertical-align: top;\n",
              "    }\n",
              "\n",
              "    .dataframe thead th {\n",
              "        text-align: right;\n",
              "    }\n",
              "</style>\n",
              "<table border=\"1\" class=\"dataframe\">\n",
              "  <thead>\n",
              "    <tr style=\"text-align: right;\">\n",
              "      <th></th>\n",
              "      <th>listing_id</th>\n",
              "      <th>listing_url</th>\n",
              "      <th>name</th>\n",
              "      <th>description</th>\n",
              "      <th>latitude</th>\n",
              "      <th>longitude</th>\n",
              "      <th>property_type</th>\n",
              "      <th>room_type</th>\n",
              "      <th>accomodates</th>\n",
              "      <th>bathrooms_text</th>\n",
              "      <th>bedrooms</th>\n",
              "      <th>beds</th>\n",
              "      <th>amenities</th>\n",
              "      <th>host_id</th>\n",
              "    </tr>\n",
              "  </thead>\n",
              "  <tbody>\n",
              "    <tr>\n",
              "      <th>0</th>\n",
              "      <td>50904</td>\n",
              "      <td>https://www.airbnb.com/rooms/50904</td>\n",
              "      <td>aplace/antwerp: cosy suite - fashion district</td>\n",
              "      <td>Decorated in a vintage style combined with a f...</td>\n",
              "      <td>51.218575</td>\n",
              "      <td>4.398631</td>\n",
              "      <td>Room in boutique hotel</td>\n",
              "      <td>Hotel room</td>\n",
              "      <td>2</td>\n",
              "      <td>1 private bath</td>\n",
              "      <td>1.0</td>\n",
              "      <td>1.0</td>\n",
              "      <td>[\"Kitchen\", \"Smoke alarm\", \"Hair dryer\", \"Keyp...</td>\n",
              "      <td>234077</td>\n",
              "    </tr>\n",
              "    <tr>\n",
              "      <th>1</th>\n",
              "      <td>116134</td>\n",
              "      <td>https://www.airbnb.com/rooms/116134</td>\n",
              "      <td>Spacious apartment nearby Mas</td>\n",
              "      <td>Enjoy your stay at our 4 person apartment in t...</td>\n",
              "      <td>51.230510</td>\n",
              "      <td>4.405930</td>\n",
              "      <td>Entire rental unit</td>\n",
              "      <td>Entire home/apt</td>\n",
              "      <td>4</td>\n",
              "      <td>2.5 baths</td>\n",
              "      <td>2.0</td>\n",
              "      <td>2.0</td>\n",
              "      <td>[\"Refrigerator\", \"Elevator\", \"Paid street park...</td>\n",
              "      <td>586942</td>\n",
              "    </tr>\n",
              "    <tr>\n",
              "      <th>2</th>\n",
              "      <td>218916</td>\n",
              "      <td>https://www.airbnb.com/rooms/218916</td>\n",
              "      <td>Apartment with terrace in trendy Zurenborg</td>\n",
              "      <td>Do you enjoy authentic places with a lot of ch...</td>\n",
              "      <td>51.206330</td>\n",
              "      <td>4.429420</td>\n",
              "      <td>Entire condominium (condo)</td>\n",
              "      <td>Entire home/apt</td>\n",
              "      <td>5</td>\n",
              "      <td>1 bath</td>\n",
              "      <td>1.0</td>\n",
              "      <td>3.0</td>\n",
              "      <td>[\"Paid street parking off premises\", \"Kitchen\"...</td>\n",
              "      <td>915664</td>\n",
              "    </tr>\n",
              "    <tr>\n",
              "      <th>3</th>\n",
              "      <td>224333</td>\n",
              "      <td>https://www.airbnb.com/rooms/224333</td>\n",
              "      <td>Large stylish room in 1930s house + garden</td>\n",
              "      <td>Large bedroom in classic 1930s house. Kitchen,...</td>\n",
              "      <td>51.197720</td>\n",
              "      <td>4.458530</td>\n",
              "      <td>Private room in residential home</td>\n",
              "      <td>Private room</td>\n",
              "      <td>2</td>\n",
              "      <td>2 shared baths</td>\n",
              "      <td>1.0</td>\n",
              "      <td>1.0</td>\n",
              "      <td>[\"Fire extinguisher\", \"Backyard\", \"Long term s...</td>\n",
              "      <td>1167377</td>\n",
              "    </tr>\n",
              "    <tr>\n",
              "      <th>4</th>\n",
              "      <td>224682</td>\n",
              "      <td>https://www.airbnb.com/rooms/224682</td>\n",
              "      <td>APARTMENT ROSCAM - OLD CENTRE ANTWERP</td>\n",
              "      <td>&lt;b&gt;The space&lt;/b&gt;&lt;br /&gt;Apartment \"Roscam\" is a ...</td>\n",
              "      <td>51.217220</td>\n",
              "      <td>4.397900</td>\n",
              "      <td>Entire rental unit</td>\n",
              "      <td>Entire home/apt</td>\n",
              "      <td>3</td>\n",
              "      <td>1 bath</td>\n",
              "      <td>1.0</td>\n",
              "      <td>2.0</td>\n",
              "      <td>[\"Refrigerator\", \"Kitchen\", \"Smoke alarm\", \"Sh...</td>\n",
              "      <td>1263933</td>\n",
              "    </tr>\n",
              "  </tbody>\n",
              "</table>\n",
              "</div>"
            ],
            "text/plain": [
              "   listing_id                          listing_url  \\\n",
              "0       50904   https://www.airbnb.com/rooms/50904   \n",
              "1      116134  https://www.airbnb.com/rooms/116134   \n",
              "2      218916  https://www.airbnb.com/rooms/218916   \n",
              "3      224333  https://www.airbnb.com/rooms/224333   \n",
              "4      224682  https://www.airbnb.com/rooms/224682   \n",
              "\n",
              "                                            name  \\\n",
              "0  aplace/antwerp: cosy suite - fashion district   \n",
              "1                  Spacious apartment nearby Mas   \n",
              "2     Apartment with terrace in trendy Zurenborg   \n",
              "3     Large stylish room in 1930s house + garden   \n",
              "4          APARTMENT ROSCAM - OLD CENTRE ANTWERP   \n",
              "\n",
              "                                         description   latitude  longitude  \\\n",
              "0  Decorated in a vintage style combined with a f...  51.218575   4.398631   \n",
              "1  Enjoy your stay at our 4 person apartment in t...  51.230510   4.405930   \n",
              "2  Do you enjoy authentic places with a lot of ch...  51.206330   4.429420   \n",
              "3  Large bedroom in classic 1930s house. Kitchen,...  51.197720   4.458530   \n",
              "4  <b>The space</b><br />Apartment \"Roscam\" is a ...  51.217220   4.397900   \n",
              "\n",
              "                      property_type        room_type  accomodates  \\\n",
              "0            Room in boutique hotel       Hotel room            2   \n",
              "1                Entire rental unit  Entire home/apt            4   \n",
              "2        Entire condominium (condo)  Entire home/apt            5   \n",
              "3  Private room in residential home     Private room            2   \n",
              "4                Entire rental unit  Entire home/apt            3   \n",
              "\n",
              "   bathrooms_text  bedrooms  beds  \\\n",
              "0  1 private bath       1.0   1.0   \n",
              "1       2.5 baths       2.0   2.0   \n",
              "2          1 bath       1.0   3.0   \n",
              "3  2 shared baths       1.0   1.0   \n",
              "4          1 bath       1.0   2.0   \n",
              "\n",
              "                                           amenities  host_id  \n",
              "0  [\"Kitchen\", \"Smoke alarm\", \"Hair dryer\", \"Keyp...   234077  \n",
              "1  [\"Refrigerator\", \"Elevator\", \"Paid street park...   586942  \n",
              "2  [\"Paid street parking off premises\", \"Kitchen\"...   915664  \n",
              "3  [\"Fire extinguisher\", \"Backyard\", \"Long term s...  1167377  \n",
              "4  [\"Refrigerator\", \"Kitchen\", \"Smoke alarm\", \"Sh...  1263933  "
            ]
          },
          "execution_count": 21,
          "metadata": {},
          "output_type": "execute_result"
        }
      ],
      "source": [
        "listings.head()"
      ]
    },
    {
      "cell_type": "code",
      "execution_count": null,
      "id": "7bbdaf5e",
      "metadata": {
        "id": "7bbdaf5e",
        "outputId": "4c00e005-e455-462f-92f4-d05614330283"
      },
      "outputs": [
        {
          "name": "stdout",
          "output_type": "stream",
          "text": [
            "<class 'pandas.core.frame.DataFrame'>\n",
            "RangeIndex: 1749 entries, 0 to 1748\n",
            "Data columns (total 14 columns):\n",
            " #   Column          Non-Null Count  Dtype  \n",
            "---  ------          --------------  -----  \n",
            " 0   listing_id      1749 non-null   int64  \n",
            " 1   listing_url     1749 non-null   object \n",
            " 2   name            1749 non-null   object \n",
            " 3   description     1679 non-null   object \n",
            " 4   latitude        1749 non-null   float64\n",
            " 5   longitude       1749 non-null   float64\n",
            " 6   property_type   1749 non-null   object \n",
            " 7   room_type       1749 non-null   object \n",
            " 8   accomodates     1749 non-null   int64  \n",
            " 9   bathrooms_text  1749 non-null   object \n",
            " 10  bedrooms        1621 non-null   float64\n",
            " 11  beds            1708 non-null   float64\n",
            " 12  amenities       1749 non-null   object \n",
            " 13  host_id         1749 non-null   int64  \n",
            "dtypes: float64(4), int64(3), object(7)\n",
            "memory usage: 191.4+ KB\n"
          ]
        }
      ],
      "source": [
        "listings.info()"
      ]
    },
    {
      "cell_type": "markdown",
      "id": "28511abe",
      "metadata": {
        "id": "28511abe"
      },
      "source": [
        "**Potential Transformations and Feature Engineering**\n",
        "\n",
        "1. Handling missing values in 'bedrooms' and 'beds' by imputing them with median.\n",
        "2. One Hot Encoding for Property and Room Types.\n",
        "3. Extracting features from Amenities.\n",
        "4. Extracting Geographical information from Long and Lat."
      ]
    },
    {
      "cell_type": "code",
      "execution_count": null,
      "id": "02c1f68c",
      "metadata": {
        "id": "02c1f68c",
        "outputId": "a2ee7a89-02d6-4940-dc52-6bb130e30c41"
      },
      "outputs": [
        {
          "data": {
            "text/plain": [
              "Index(['listing_id', 'listing_url', 'name', 'description', 'latitude',\n",
              "       'longitude', 'property_type', 'room_type', 'accomodates',\n",
              "       'bathrooms_text', 'bedrooms', 'beds', 'amenities', 'host_id'],\n",
              "      dtype='object')"
            ]
          },
          "execution_count": 23,
          "metadata": {},
          "output_type": "execute_result"
        }
      ],
      "source": [
        "listings.columns"
      ]
    },
    {
      "cell_type": "code",
      "execution_count": null,
      "id": "60bf0121",
      "metadata": {
        "scrolled": false,
        "id": "60bf0121",
        "outputId": "5ad46ccf-5f52-47f3-fabe-f2adc9a6348e"
      },
      "outputs": [
        {
          "name": "stdout",
          "output_type": "stream",
          "text": [
            "Number of total Property Categories : 39\n",
            "\n",
            "Categories of Property:\n",
            "\n",
            " ['Room in boutique hotel' 'Entire rental unit'\n",
            " 'Entire condominium (condo)' 'Private room in residential home'\n",
            " 'Private room in rental unit' 'Private room in townhouse' 'Entire loft'\n",
            " 'Entire residential home' 'Private room in boat'\n",
            " 'Private room in bed and breakfast' 'Entire townhouse'\n",
            " 'Private room in loft' 'Shared room in residential home' 'Entire cottage'\n",
            " 'Private room' 'Entire villa' 'Yurt' 'Houseboat'\n",
            " 'Private room in condominium (condo)' 'Tent' 'Entire serviced apartment'\n",
            " 'Tiny house' 'Entire guest suite' 'Private room in guest suite'\n",
            " 'Room in hotel' 'Private room in guesthouse' 'Private room in villa'\n",
            " 'Entire guesthouse' 'Room in aparthotel'\n",
            " 'Private room in religious building' 'Shared room in loft'\n",
            " 'Casa particular' 'Private room in serviced apartment'\n",
            " 'Shared room in bed and breakfast' 'Private room in casa particular'\n",
            " 'Shared room in casa particular' 'Boat' 'Entire vacation home' 'Castle']\n"
          ]
        }
      ],
      "source": [
        "print('Number of total Property Categories :', listings['property_type'].nunique())\n",
        "print('\\nCategories of Property:\\n\\n', listings['property_type'].unique())"
      ]
    },
    {
      "cell_type": "code",
      "execution_count": null,
      "id": "e0074ec8",
      "metadata": {
        "id": "e0074ec8",
        "outputId": "7cd5bc0b-e13c-46f5-ab38-188d9d84a432"
      },
      "outputs": [
        {
          "name": "stdout",
          "output_type": "stream",
          "text": [
            "Total number of room types:  4\n",
            "\n",
            "Room Tyes:\n",
            "\n",
            " ['Hotel room' 'Entire home/apt' 'Private room' 'Shared room']\n"
          ]
        }
      ],
      "source": [
        "print('Total number of room types: ', listings['room_type'].nunique())\n",
        "print('\\nRoom Tyes:\\n\\n', listings['room_type'].unique())"
      ]
    },
    {
      "cell_type": "markdown",
      "id": "1851ffea",
      "metadata": {
        "id": "1851ffea"
      },
      "source": [
        "**Getting Descriptive Stats for 'bedrooms' and 'beds'**"
      ]
    },
    {
      "cell_type": "code",
      "execution_count": null,
      "id": "b1baab19",
      "metadata": {
        "id": "b1baab19",
        "outputId": "9d1b0bfc-bb33-46fa-d0de-c006fa7fc25d"
      },
      "outputs": [
        {
          "data": {
            "text/html": [
              "<div>\n",
              "<style scoped>\n",
              "    .dataframe tbody tr th:only-of-type {\n",
              "        vertical-align: middle;\n",
              "    }\n",
              "\n",
              "    .dataframe tbody tr th {\n",
              "        vertical-align: top;\n",
              "    }\n",
              "\n",
              "    .dataframe thead th {\n",
              "        text-align: right;\n",
              "    }\n",
              "</style>\n",
              "<table border=\"1\" class=\"dataframe\">\n",
              "  <thead>\n",
              "    <tr style=\"text-align: right;\">\n",
              "      <th></th>\n",
              "      <th>bedrooms</th>\n",
              "      <th>beds</th>\n",
              "    </tr>\n",
              "  </thead>\n",
              "  <tbody>\n",
              "    <tr>\n",
              "      <th>count</th>\n",
              "      <td>1621.000000</td>\n",
              "      <td>1708.000000</td>\n",
              "    </tr>\n",
              "    <tr>\n",
              "      <th>mean</th>\n",
              "      <td>1.529303</td>\n",
              "      <td>2.220726</td>\n",
              "    </tr>\n",
              "    <tr>\n",
              "      <th>std</th>\n",
              "      <td>1.091453</td>\n",
              "      <td>2.227509</td>\n",
              "    </tr>\n",
              "    <tr>\n",
              "      <th>min</th>\n",
              "      <td>1.000000</td>\n",
              "      <td>1.000000</td>\n",
              "    </tr>\n",
              "    <tr>\n",
              "      <th>25%</th>\n",
              "      <td>1.000000</td>\n",
              "      <td>1.000000</td>\n",
              "    </tr>\n",
              "    <tr>\n",
              "      <th>50%</th>\n",
              "      <td>1.000000</td>\n",
              "      <td>2.000000</td>\n",
              "    </tr>\n",
              "    <tr>\n",
              "      <th>75%</th>\n",
              "      <td>2.000000</td>\n",
              "      <td>3.000000</td>\n",
              "    </tr>\n",
              "    <tr>\n",
              "      <th>max</th>\n",
              "      <td>20.000000</td>\n",
              "      <td>44.000000</td>\n",
              "    </tr>\n",
              "  </tbody>\n",
              "</table>\n",
              "</div>"
            ],
            "text/plain": [
              "          bedrooms         beds\n",
              "count  1621.000000  1708.000000\n",
              "mean      1.529303     2.220726\n",
              "std       1.091453     2.227509\n",
              "min       1.000000     1.000000\n",
              "25%       1.000000     1.000000\n",
              "50%       1.000000     2.000000\n",
              "75%       2.000000     3.000000\n",
              "max      20.000000    44.000000"
            ]
          },
          "execution_count": 26,
          "metadata": {},
          "output_type": "execute_result"
        }
      ],
      "source": [
        "listings[['bedrooms','beds']].describe()"
      ]
    },
    {
      "cell_type": "code",
      "execution_count": null,
      "id": "31f5c865",
      "metadata": {
        "id": "31f5c865"
      },
      "outputs": [],
      "source": [
        "listings['bedrooms'].fillna(listings['bedrooms'].median(), inplace=True)\n",
        "listings['beds'].fillna(listings['beds'].median(), inplace=True)"
      ]
    },
    {
      "cell_type": "markdown",
      "id": "1ea7e8e2",
      "metadata": {
        "id": "1ea7e8e2"
      },
      "source": [
        "**Perfoming One Hot Encoding for 'property_type' and 'room_type'**"
      ]
    },
    {
      "cell_type": "code",
      "execution_count": null,
      "id": "52064bd8",
      "metadata": {
        "scrolled": false,
        "id": "52064bd8",
        "outputId": "eee282bb-e282-47ad-98f1-7e4e8cdfa8ea"
      },
      "outputs": [
        {
          "name": "stdout",
          "output_type": "stream",
          "text": [
            "<class 'pandas.core.frame.DataFrame'>\n",
            "RangeIndex: 1749 entries, 0 to 1748\n",
            "Data columns (total 55 columns):\n",
            " #   Column                                             Non-Null Count  Dtype  \n",
            "---  ------                                             --------------  -----  \n",
            " 0   listing_id                                         1749 non-null   int64  \n",
            " 1   listing_url                                        1749 non-null   object \n",
            " 2   name                                               1749 non-null   object \n",
            " 3   description                                        1679 non-null   object \n",
            " 4   latitude                                           1749 non-null   float64\n",
            " 5   longitude                                          1749 non-null   float64\n",
            " 6   accomodates                                        1749 non-null   int64  \n",
            " 7   bathrooms_text                                     1749 non-null   object \n",
            " 8   bedrooms                                           1749 non-null   float64\n",
            " 9   beds                                               1749 non-null   float64\n",
            " 10  amenities                                          1749 non-null   object \n",
            " 11  host_id                                            1749 non-null   int64  \n",
            " 12  property_type_Boat                                 1749 non-null   int64  \n",
            " 13  property_type_Casa particular                      1749 non-null   int64  \n",
            " 14  property_type_Castle                               1749 non-null   int64  \n",
            " 15  property_type_Entire condominium (condo)           1749 non-null   int64  \n",
            " 16  property_type_Entire cottage                       1749 non-null   int64  \n",
            " 17  property_type_Entire guest suite                   1749 non-null   int64  \n",
            " 18  property_type_Entire guesthouse                    1749 non-null   int64  \n",
            " 19  property_type_Entire loft                          1749 non-null   int64  \n",
            " 20  property_type_Entire rental unit                   1749 non-null   int64  \n",
            " 21  property_type_Entire residential home              1749 non-null   int64  \n",
            " 22  property_type_Entire serviced apartment            1749 non-null   int64  \n",
            " 23  property_type_Entire townhouse                     1749 non-null   int64  \n",
            " 24  property_type_Entire vacation home                 1749 non-null   int64  \n",
            " 25  property_type_Entire villa                         1749 non-null   int64  \n",
            " 26  property_type_Houseboat                            1749 non-null   int64  \n",
            " 27  property_type_Private room                         1749 non-null   int64  \n",
            " 28  property_type_Private room in bed and breakfast    1749 non-null   int64  \n",
            " 29  property_type_Private room in boat                 1749 non-null   int64  \n",
            " 30  property_type_Private room in casa particular      1749 non-null   int64  \n",
            " 31  property_type_Private room in condominium (condo)  1749 non-null   int64  \n",
            " 32  property_type_Private room in guest suite          1749 non-null   int64  \n",
            " 33  property_type_Private room in guesthouse           1749 non-null   int64  \n",
            " 34  property_type_Private room in loft                 1749 non-null   int64  \n",
            " 35  property_type_Private room in religious building   1749 non-null   int64  \n",
            " 36  property_type_Private room in rental unit          1749 non-null   int64  \n",
            " 37  property_type_Private room in residential home     1749 non-null   int64  \n",
            " 38  property_type_Private room in serviced apartment   1749 non-null   int64  \n",
            " 39  property_type_Private room in townhouse            1749 non-null   int64  \n",
            " 40  property_type_Private room in villa                1749 non-null   int64  \n",
            " 41  property_type_Room in aparthotel                   1749 non-null   int64  \n",
            " 42  property_type_Room in boutique hotel               1749 non-null   int64  \n",
            " 43  property_type_Room in hotel                        1749 non-null   int64  \n",
            " 44  property_type_Shared room in bed and breakfast     1749 non-null   int64  \n",
            " 45  property_type_Shared room in casa particular       1749 non-null   int64  \n",
            " 46  property_type_Shared room in loft                  1749 non-null   int64  \n",
            " 47  property_type_Shared room in residential home      1749 non-null   int64  \n",
            " 48  property_type_Tent                                 1749 non-null   int64  \n",
            " 49  property_type_Tiny house                           1749 non-null   int64  \n",
            " 50  property_type_Yurt                                 1749 non-null   int64  \n",
            " 51  room_type_Entire home/apt                          1749 non-null   int64  \n",
            " 52  room_type_Hotel room                               1749 non-null   int64  \n",
            " 53  room_type_Private room                             1749 non-null   int64  \n",
            " 54  room_type_Shared room                              1749 non-null   int64  \n",
            "dtypes: float64(4), int64(46), object(5)\n",
            "memory usage: 751.7+ KB\n"
          ]
        }
      ],
      "source": [
        "listings_encoded = pd.get_dummies(listings, columns=['property_type','room_type'], dtype='int64')\n",
        "listings_encoded.info()"
      ]
    },
    {
      "cell_type": "markdown",
      "id": "a4e4adce",
      "metadata": {
        "id": "a4e4adce"
      },
      "source": [
        "---\n",
        "***Doubts Related to Amenities***"
      ]
    },
    {
      "cell_type": "code",
      "execution_count": null,
      "id": "b823f1a3",
      "metadata": {
        "id": "b823f1a3",
        "outputId": "2c2266db-7a81-42d4-da9d-660ed3be3674"
      },
      "outputs": [
        {
          "name": "stdout",
          "output_type": "stream",
          "text": [
            "Types of Amenities: 1656\n"
          ]
        }
      ],
      "source": [
        "print('Types of Amenities:', listings['amenities'].nunique())"
      ]
    },
    {
      "cell_type": "markdown",
      "id": "bd960326",
      "metadata": {
        "id": "bd960326"
      },
      "source": [
        "How to tackle this given scenario as the number of unique amenities are huge and it will not be feasible for us to one hot encode such column. What's the right approach?\n",
        "\n",
        "---"
      ]
    },
    {
      "cell_type": "markdown",
      "id": "0d9ba02c",
      "metadata": {
        "id": "0d9ba02c"
      },
      "source": [
        "Going further... Let's look into **'hosts'** dataset."
      ]
    },
    {
      "cell_type": "code",
      "execution_count": null,
      "id": "6c7c5054",
      "metadata": {
        "id": "6c7c5054",
        "outputId": "7fd0e180-1056-4a49-ed61-e1fd45f6efae"
      },
      "outputs": [
        {
          "data": {
            "text/plain": [
              "(1111, 5)"
            ]
          },
          "execution_count": 30,
          "metadata": {},
          "output_type": "execute_result"
        }
      ],
      "source": [
        "hosts.shape"
      ]
    },
    {
      "cell_type": "code",
      "execution_count": null,
      "id": "b53f1b8a",
      "metadata": {
        "id": "b53f1b8a",
        "outputId": "0d712875-b2be-40e5-9e39-5980da793397"
      },
      "outputs": [
        {
          "data": {
            "text/plain": [
              "1111"
            ]
          },
          "execution_count": 31,
          "metadata": {},
          "output_type": "execute_result"
        }
      ],
      "source": [
        "hosts['host_id'].nunique()"
      ]
    },
    {
      "cell_type": "markdown",
      "id": "82dc1792",
      "metadata": {
        "id": "82dc1792"
      },
      "source": [
        "Upon first inspection, we can say that there are fewer unique hosts IDs than unique listing IDs. From this we can infer that some hosts might have multiple listings on the platform. This is a very common scenarios in platforms like Airbnb, where one host can manage multiple properties for rent."
      ]
    },
    {
      "cell_type": "code",
      "execution_count": null,
      "id": "55e11814",
      "metadata": {
        "id": "55e11814",
        "outputId": "b8060f58-2d6c-49cf-ed74-69005db0c13a"
      },
      "outputs": [
        {
          "data": {
            "text/html": [
              "<div>\n",
              "<style scoped>\n",
              "    .dataframe tbody tr th:only-of-type {\n",
              "        vertical-align: middle;\n",
              "    }\n",
              "\n",
              "    .dataframe tbody tr th {\n",
              "        vertical-align: top;\n",
              "    }\n",
              "\n",
              "    .dataframe thead th {\n",
              "        text-align: right;\n",
              "    }\n",
              "</style>\n",
              "<table border=\"1\" class=\"dataframe\">\n",
              "  <thead>\n",
              "    <tr style=\"text-align: right;\">\n",
              "      <th></th>\n",
              "      <th>host_id</th>\n",
              "      <th>host_name</th>\n",
              "      <th>host_since</th>\n",
              "      <th>host_location</th>\n",
              "      <th>host_about</th>\n",
              "    </tr>\n",
              "  </thead>\n",
              "  <tbody>\n",
              "    <tr>\n",
              "      <th>0</th>\n",
              "      <td>234077</td>\n",
              "      <td>Karin</td>\n",
              "      <td>2010-09-14 00:00:00.000000</td>\n",
              "      <td>Antwerp, Flanders, Belgium</td>\n",
              "      <td>Ever since my childhood I dreamt of having my ...</td>\n",
              "    </tr>\n",
              "    <tr>\n",
              "      <th>1</th>\n",
              "      <td>334804</td>\n",
              "      <td>Ann</td>\n",
              "      <td>2011-01-04 00:00:00.000000</td>\n",
              "      <td>Antwerp, Flemish Region, Belgium</td>\n",
              "      <td>Ciao, \\r\\nlooking forward to meet you!\\r\\nI lo...</td>\n",
              "    </tr>\n",
              "    <tr>\n",
              "      <th>2</th>\n",
              "      <td>413052</td>\n",
              "      <td>Valérie</td>\n",
              "      <td>2011-02-27 00:00:00.000000</td>\n",
              "      <td>Antwerp, Flanders, Belgium</td>\n",
              "      <td>NaN</td>\n",
              "    </tr>\n",
              "    <tr>\n",
              "      <th>3</th>\n",
              "      <td>452791</td>\n",
              "      <td>Tatiana</td>\n",
              "      <td>2011-03-20 00:00:00.000000</td>\n",
              "      <td>Antwerp, Flanders, Belgium</td>\n",
              "      <td>World traveler with a penchant for adrenaline ...</td>\n",
              "    </tr>\n",
              "    <tr>\n",
              "      <th>4</th>\n",
              "      <td>462975</td>\n",
              "      <td>Els</td>\n",
              "      <td>2011-03-25 00:00:00.000000</td>\n",
              "      <td>Edegem, Flanders, Belgium</td>\n",
              "      <td>I studied languages and cultural anthropology ...</td>\n",
              "    </tr>\n",
              "  </tbody>\n",
              "</table>\n",
              "</div>"
            ],
            "text/plain": [
              "   host_id host_name                  host_since  \\\n",
              "0   234077     Karin  2010-09-14 00:00:00.000000   \n",
              "1   334804       Ann  2011-01-04 00:00:00.000000   \n",
              "2   413052   Valérie  2011-02-27 00:00:00.000000   \n",
              "3   452791   Tatiana  2011-03-20 00:00:00.000000   \n",
              "4   462975       Els  2011-03-25 00:00:00.000000   \n",
              "\n",
              "                      host_location  \\\n",
              "0        Antwerp, Flanders, Belgium   \n",
              "1  Antwerp, Flemish Region, Belgium   \n",
              "2        Antwerp, Flanders, Belgium   \n",
              "3        Antwerp, Flanders, Belgium   \n",
              "4         Edegem, Flanders, Belgium   \n",
              "\n",
              "                                          host_about  \n",
              "0  Ever since my childhood I dreamt of having my ...  \n",
              "1  Ciao, \\r\\nlooking forward to meet you!\\r\\nI lo...  \n",
              "2                                                NaN  \n",
              "3  World traveler with a penchant for adrenaline ...  \n",
              "4  I studied languages and cultural anthropology ...  "
            ]
          },
          "execution_count": 32,
          "metadata": {},
          "output_type": "execute_result"
        }
      ],
      "source": [
        "hosts.head(5)"
      ]
    },
    {
      "cell_type": "code",
      "execution_count": null,
      "id": "3f49a4ea",
      "metadata": {
        "id": "3f49a4ea",
        "outputId": "e8025722-70fa-4491-cc3b-2229477e1ad4"
      },
      "outputs": [
        {
          "name": "stdout",
          "output_type": "stream",
          "text": [
            "<class 'pandas.core.frame.DataFrame'>\n",
            "RangeIndex: 1111 entries, 0 to 1110\n",
            "Data columns (total 5 columns):\n",
            " #   Column         Non-Null Count  Dtype \n",
            "---  ------         --------------  ----- \n",
            " 0   host_id        1111 non-null   int64 \n",
            " 1   host_name      1111 non-null   object\n",
            " 2   host_since     1111 non-null   object\n",
            " 3   host_location  1108 non-null   object\n",
            " 4   host_about     490 non-null    object\n",
            "dtypes: int64(1), object(4)\n",
            "memory usage: 43.5+ KB\n"
          ]
        }
      ],
      "source": [
        "hosts.info()"
      ]
    },
    {
      "cell_type": "markdown",
      "id": "67da4d92",
      "metadata": {
        "id": "67da4d92"
      },
      "source": [
        "**Potential Transformations and Feature Engineering**\n",
        "1. Convert 'host_since' to datetime\n",
        "2. One Hot Encode 'host_location'\n",
        "3. Handle missing values in 'host_location' and 'host_about'"
      ]
    },
    {
      "cell_type": "markdown",
      "id": "de797a41",
      "metadata": {
        "id": "de797a41"
      },
      "source": [
        "**Convert 'host_since' to datetime**"
      ]
    },
    {
      "cell_type": "code",
      "execution_count": null,
      "id": "c6c00fc7",
      "metadata": {
        "id": "c6c00fc7"
      },
      "outputs": [],
      "source": [
        "hosts['host_since'] = pd.to_datetime(hosts['host_since'])"
      ]
    },
    {
      "cell_type": "markdown",
      "id": "f263f8b8",
      "metadata": {
        "id": "f263f8b8"
      },
      "source": [
        "**Checking for 'host_location' column for one hot encoding**"
      ]
    },
    {
      "cell_type": "code",
      "execution_count": null,
      "id": "1393976a",
      "metadata": {
        "id": "1393976a",
        "outputId": "175ca90a-d33d-4e66-b98d-4359b028692f"
      },
      "outputs": [
        {
          "data": {
            "text/plain": [
              "149"
            ]
          },
          "execution_count": 35,
          "metadata": {},
          "output_type": "execute_result"
        }
      ],
      "source": [
        "hosts['host_location'].nunique()"
      ]
    },
    {
      "cell_type": "markdown",
      "id": "12de8d15",
      "metadata": {
        "id": "12de8d15"
      },
      "source": [
        "As from the glance of number of unique host location it is not feasible to go for one hot encoding."
      ]
    },
    {
      "cell_type": "code",
      "execution_count": null,
      "id": "582bc03f",
      "metadata": {
        "id": "582bc03f",
        "outputId": "5904d10c-b190-4673-a829-7912d2d3bd46"
      },
      "outputs": [
        {
          "name": "stdout",
          "output_type": "stream",
          "text": [
            "       host_id host_name host_since host_location host_about\n",
            "517   57235200  Philippe 2016-02-03           NaN        NaN\n",
            "587   79089379   Mathias 2016-06-21           NaN        NaN\n",
            "665  115662416       Tom 2017-02-09           NaN        NaN\n"
          ]
        }
      ],
      "source": [
        "# checking for null values in host_locations\n",
        "null_locations = hosts[hosts['host_location'].isnull()]\n",
        "print(null_locations)"
      ]
    },
    {
      "cell_type": "markdown",
      "id": "efa4a32b",
      "metadata": {
        "id": "efa4a32b"
      },
      "source": [
        "For the time being, let's keep these values as NaN. As this could provide us with some insight about the impact on price due to such scenarios.\n",
        "\n",
        "---"
      ]
    },
    {
      "cell_type": "markdown",
      "id": "ec5958fb",
      "metadata": {
        "id": "ec5958fb"
      },
      "source": [
        "Let's get moving with the last dataset i.e **'Reviews'**"
      ]
    },
    {
      "cell_type": "code",
      "execution_count": null,
      "id": "9c8dde09",
      "metadata": {
        "id": "9c8dde09",
        "outputId": "eb30b402-3a67-45e6-b84f-91816f3afae3"
      },
      "outputs": [
        {
          "data": {
            "text/plain": [
              "(62987, 6)"
            ]
          },
          "execution_count": 37,
          "metadata": {},
          "output_type": "execute_result"
        }
      ],
      "source": [
        "reviews.shape"
      ]
    },
    {
      "cell_type": "code",
      "execution_count": null,
      "id": "18f471e3",
      "metadata": {
        "id": "18f471e3",
        "outputId": "7b53b4b7-1ee2-44c1-8609-34af0ba431d4"
      },
      "outputs": [
        {
          "data": {
            "text/plain": [
              "1525"
            ]
          },
          "execution_count": 51,
          "metadata": {},
          "output_type": "execute_result"
        }
      ],
      "source": [
        "reviews['listing_id'].nunique()"
      ]
    },
    {
      "cell_type": "code",
      "execution_count": null,
      "id": "5c8ea84f",
      "metadata": {
        "id": "5c8ea84f",
        "outputId": "8eee5d55-5ef6-405b-e58c-bcaad647176b"
      },
      "outputs": [
        {
          "data": {
            "text/html": [
              "<div>\n",
              "<style scoped>\n",
              "    .dataframe tbody tr th:only-of-type {\n",
              "        vertical-align: middle;\n",
              "    }\n",
              "\n",
              "    .dataframe tbody tr th {\n",
              "        vertical-align: top;\n",
              "    }\n",
              "\n",
              "    .dataframe thead th {\n",
              "        text-align: right;\n",
              "    }\n",
              "</style>\n",
              "<table border=\"1\" class=\"dataframe\">\n",
              "  <thead>\n",
              "    <tr style=\"text-align: right;\">\n",
              "      <th></th>\n",
              "      <th>review_id</th>\n",
              "      <th>listing_id</th>\n",
              "      <th>date</th>\n",
              "      <th>reviewer_id</th>\n",
              "      <th>reviewer_name</th>\n",
              "      <th>comments</th>\n",
              "    </tr>\n",
              "  </thead>\n",
              "  <tbody>\n",
              "    <tr>\n",
              "      <th>0</th>\n",
              "      <td>1</td>\n",
              "      <td>50904</td>\n",
              "      <td>2015-05-06 00:00:00.000000</td>\n",
              "      <td>19482395</td>\n",
              "      <td>Jihae</td>\n",
              "      <td>Karin’s “Aplace” is absolutely beautiful and c...</td>\n",
              "    </tr>\n",
              "    <tr>\n",
              "      <th>1</th>\n",
              "      <td>2</td>\n",
              "      <td>50904</td>\n",
              "      <td>2021-10-10 00:00:00.000000</td>\n",
              "      <td>333559</td>\n",
              "      <td>Emilie</td>\n",
              "      <td>Karin is a wonderful host, she was really help...</td>\n",
              "    </tr>\n",
              "    <tr>\n",
              "      <th>2</th>\n",
              "      <td>3</td>\n",
              "      <td>116134</td>\n",
              "      <td>2012-03-05 00:00:00.000000</td>\n",
              "      <td>928644</td>\n",
              "      <td>Aurélien</td>\n",
              "      <td>Amazing flat, really close from the MAS Musem,...</td>\n",
              "    </tr>\n",
              "    <tr>\n",
              "      <th>3</th>\n",
              "      <td>4</td>\n",
              "      <td>116134</td>\n",
              "      <td>2012-05-25 00:00:00.000000</td>\n",
              "      <td>231288</td>\n",
              "      <td>Gail</td>\n",
              "      <td>This is a well equipped, very comfortable apar...</td>\n",
              "    </tr>\n",
              "    <tr>\n",
              "      <th>4</th>\n",
              "      <td>5</td>\n",
              "      <td>116134</td>\n",
              "      <td>2013-09-03 00:00:00.000000</td>\n",
              "      <td>7984251</td>\n",
              "      <td>Marcel</td>\n",
              "      <td>This is a very nice appartement. We really lik...</td>\n",
              "    </tr>\n",
              "  </tbody>\n",
              "</table>\n",
              "</div>"
            ],
            "text/plain": [
              "   review_id  listing_id                        date  reviewer_id  \\\n",
              "0          1       50904  2015-05-06 00:00:00.000000     19482395   \n",
              "1          2       50904  2021-10-10 00:00:00.000000       333559   \n",
              "2          3      116134  2012-03-05 00:00:00.000000       928644   \n",
              "3          4      116134  2012-05-25 00:00:00.000000       231288   \n",
              "4          5      116134  2013-09-03 00:00:00.000000      7984251   \n",
              "\n",
              "  reviewer_name                                           comments  \n",
              "0         Jihae  Karin’s “Aplace” is absolutely beautiful and c...  \n",
              "1        Emilie  Karin is a wonderful host, she was really help...  \n",
              "2      Aurélien  Amazing flat, really close from the MAS Musem,...  \n",
              "3          Gail  This is a well equipped, very comfortable apar...  \n",
              "4        Marcel  This is a very nice appartement. We really lik...  "
            ]
          },
          "execution_count": 38,
          "metadata": {},
          "output_type": "execute_result"
        }
      ],
      "source": [
        "reviews.head(5)"
      ]
    },
    {
      "cell_type": "code",
      "execution_count": null,
      "id": "0e44578b",
      "metadata": {
        "scrolled": true,
        "id": "0e44578b",
        "outputId": "ce5aa80a-de0d-4470-d5e1-6ddfefd95fe1"
      },
      "outputs": [
        {
          "name": "stdout",
          "output_type": "stream",
          "text": [
            "<class 'pandas.core.frame.DataFrame'>\n",
            "RangeIndex: 62987 entries, 0 to 62986\n",
            "Data columns (total 6 columns):\n",
            " #   Column         Non-Null Count  Dtype \n",
            "---  ------         --------------  ----- \n",
            " 0   review_id      62987 non-null  int64 \n",
            " 1   listing_id     62987 non-null  int64 \n",
            " 2   date           62987 non-null  object\n",
            " 3   reviewer_id    62987 non-null  int64 \n",
            " 4   reviewer_name  62987 non-null  object\n",
            " 5   comments       62922 non-null  object\n",
            "dtypes: int64(3), object(3)\n",
            "memory usage: 2.9+ MB\n"
          ]
        }
      ],
      "source": [
        "reviews.info()"
      ]
    },
    {
      "cell_type": "markdown",
      "id": "34f3b33d",
      "metadata": {
        "id": "34f3b33d"
      },
      "source": [
        "For this given dataset, the fundamental transformation could be chaning the 'date' column to datetime."
      ]
    },
    {
      "cell_type": "code",
      "execution_count": null,
      "id": "a6708131",
      "metadata": {
        "id": "a6708131"
      },
      "outputs": [],
      "source": [
        "reviews['date'] = pd.to_datetime(reviews['date'])"
      ]
    },
    {
      "cell_type": "markdown",
      "id": "e780bcd5",
      "metadata": {
        "id": "e780bcd5"
      },
      "source": [
        "---\n",
        "\n",
        "**PROBLEM 4**\n",
        "\n",
        "Create an aggregated view of data spread across different tables, containing the\n",
        "target as well as predictor variables."
      ]
    },
    {
      "cell_type": "code",
      "execution_count": null,
      "id": "a92638f9",
      "metadata": {
        "id": "a92638f9"
      },
      "outputs": [],
      "source": [
        "merged_data_1 = pd.merge(listings_encoded, calendar, on='listing_id', how='inner')"
      ]
    },
    {
      "cell_type": "code",
      "execution_count": null,
      "id": "194b05e4",
      "metadata": {
        "id": "194b05e4"
      },
      "outputs": [],
      "source": [
        "merged_data_2 = pd.merge(merged_data_1, hosts, on='host_id', how='inner')"
      ]
    },
    {
      "cell_type": "code",
      "execution_count": null,
      "id": "a532b6b3",
      "metadata": {
        "id": "a532b6b3"
      },
      "outputs": [],
      "source": [
        "merged_data = pd.merge(merged_data_2, reviews, on='listing_id', how='inner')"
      ]
    },
    {
      "cell_type": "code",
      "execution_count": null,
      "id": "b6ccde4e",
      "metadata": {
        "id": "b6ccde4e",
        "outputId": "2598058a-cf89-4a25-ee15-6900ecc84e60"
      },
      "outputs": [
        {
          "name": "stdout",
          "output_type": "stream",
          "text": [
            "<class 'pandas.core.frame.DataFrame'>\n",
            "RangeIndex: 11468769 entries, 0 to 11468768\n",
            "Data columns (total 72 columns):\n",
            " #   Column                                             Dtype         \n",
            "---  ------                                             -----         \n",
            " 0   listing_id                                         int64         \n",
            " 1   listing_url                                        object        \n",
            " 2   name                                               object        \n",
            " 3   description                                        object        \n",
            " 4   latitude                                           float64       \n",
            " 5   longitude                                          float64       \n",
            " 6   accomodates                                        int64         \n",
            " 7   bathrooms_text                                     object        \n",
            " 8   bedrooms                                           float64       \n",
            " 9   beds                                               float64       \n",
            " 10  amenities                                          object        \n",
            " 11  host_id                                            int64         \n",
            " 12  property_type_Boat                                 int64         \n",
            " 13  property_type_Casa particular                      int64         \n",
            " 14  property_type_Castle                               int64         \n",
            " 15  property_type_Entire condominium (condo)           int64         \n",
            " 16  property_type_Entire cottage                       int64         \n",
            " 17  property_type_Entire guest suite                   int64         \n",
            " 18  property_type_Entire guesthouse                    int64         \n",
            " 19  property_type_Entire loft                          int64         \n",
            " 20  property_type_Entire rental unit                   int64         \n",
            " 21  property_type_Entire residential home              int64         \n",
            " 22  property_type_Entire serviced apartment            int64         \n",
            " 23  property_type_Entire townhouse                     int64         \n",
            " 24  property_type_Entire vacation home                 int64         \n",
            " 25  property_type_Entire villa                         int64         \n",
            " 26  property_type_Houseboat                            int64         \n",
            " 27  property_type_Private room                         int64         \n",
            " 28  property_type_Private room in bed and breakfast    int64         \n",
            " 29  property_type_Private room in boat                 int64         \n",
            " 30  property_type_Private room in casa particular      int64         \n",
            " 31  property_type_Private room in condominium (condo)  int64         \n",
            " 32  property_type_Private room in guest suite          int64         \n",
            " 33  property_type_Private room in guesthouse           int64         \n",
            " 34  property_type_Private room in loft                 int64         \n",
            " 35  property_type_Private room in religious building   int64         \n",
            " 36  property_type_Private room in rental unit          int64         \n",
            " 37  property_type_Private room in residential home     int64         \n",
            " 38  property_type_Private room in serviced apartment   int64         \n",
            " 39  property_type_Private room in townhouse            int64         \n",
            " 40  property_type_Private room in villa                int64         \n",
            " 41  property_type_Room in aparthotel                   int64         \n",
            " 42  property_type_Room in boutique hotel               int64         \n",
            " 43  property_type_Room in hotel                        int64         \n",
            " 44  property_type_Shared room in bed and breakfast     int64         \n",
            " 45  property_type_Shared room in casa particular       int64         \n",
            " 46  property_type_Shared room in loft                  int64         \n",
            " 47  property_type_Shared room in residential home      int64         \n",
            " 48  property_type_Tent                                 int64         \n",
            " 49  property_type_Tiny house                           int64         \n",
            " 50  property_type_Yurt                                 int64         \n",
            " 51  room_type_Entire home/apt                          int64         \n",
            " 52  room_type_Hotel room                               int64         \n",
            " 53  room_type_Private room                             int64         \n",
            " 54  room_type_Shared room                              int64         \n",
            " 55  calender_id                                        int64         \n",
            " 56  date_x                                             datetime64[ns]\n",
            " 57  available                                          int64         \n",
            " 58  price                                              float64       \n",
            " 59  adjusted_price                                     float64       \n",
            " 60  minimum_nights                                     int64         \n",
            " 61  maximum_nights                                     int64         \n",
            " 62  adjusted_price_log                                 float64       \n",
            " 63  host_name                                          object        \n",
            " 64  host_since                                         datetime64[ns]\n",
            " 65  host_location                                      object        \n",
            " 66  host_about                                         object        \n",
            " 67  review_id                                          int64         \n",
            " 68  date_y                                             datetime64[ns]\n",
            " 69  reviewer_id                                        int64         \n",
            " 70  reviewer_name                                      object        \n",
            " 71  comments                                           object        \n",
            "dtypes: datetime64[ns](3), float64(7), int64(52), object(10)\n",
            "memory usage: 6.2+ GB\n"
          ]
        }
      ],
      "source": [
        "merged_data.info()"
      ]
    },
    {
      "cell_type": "code",
      "execution_count": null,
      "id": "e30435ac",
      "metadata": {
        "id": "e30435ac",
        "outputId": "afd84d18-ce1b-4ffd-a55b-7ca5ec75a599"
      },
      "outputs": [
        {
          "data": {
            "text/plain": [
              "(319192, 63)"
            ]
          },
          "execution_count": 53,
          "metadata": {},
          "output_type": "execute_result"
        }
      ],
      "source": [
        "merged_data_1.shape"
      ]
    },
    {
      "cell_type": "code",
      "execution_count": null,
      "id": "8887e4ef",
      "metadata": {
        "id": "8887e4ef",
        "outputId": "8becaba2-92a8-45ca-f401-828d88e9d21c"
      },
      "outputs": [
        {
          "data": {
            "text/plain": [
              "(319192, 67)"
            ]
          },
          "execution_count": 54,
          "metadata": {},
          "output_type": "execute_result"
        }
      ],
      "source": [
        "merged_data_2.shape"
      ]
    },
    {
      "cell_type": "code",
      "execution_count": null,
      "id": "e1070fca",
      "metadata": {
        "id": "e1070fca",
        "outputId": "bef77301-8133-41f1-cbc9-25281e3cd060"
      },
      "outputs": [
        {
          "data": {
            "text/plain": [
              "(11468769, 72)"
            ]
          },
          "execution_count": 55,
          "metadata": {},
          "output_type": "execute_result"
        }
      ],
      "source": [
        "merged_data.shape"
      ]
    },
    {
      "cell_type": "markdown",
      "id": "00ec79cf",
      "metadata": {
        "id": "00ec79cf"
      },
      "source": [
        "Upon merging the dataset, the final 'merged_data' shows the shape of the dataset as (11468769, 72) by which it can be infered that there are multiple reviews for an individual lising_id, which results in the increase in the the number of rows from 319192 to 11468769."
      ]
    },
    {
      "cell_type": "code",
      "execution_count": null,
      "id": "d221c43c",
      "metadata": {
        "id": "d221c43c",
        "outputId": "9bad3e6d-c1d9-497e-86f3-8da8ff585fd4"
      },
      "outputs": [
        {
          "name": "stdout",
          "output_type": "stream",
          "text": [
            "description       122750\n",
            "price                496\n",
            "host_location      29458\n",
            "host_about       4345407\n",
            "comments           11715\n",
            "dtype: int64\n"
          ]
        }
      ],
      "source": [
        "null_counts = merged_data.isnull().sum()\n",
        "print(null_counts[null_counts > 0])"
      ]
    },
    {
      "cell_type": "markdown",
      "id": "3c8d6942",
      "metadata": {
        "id": "3c8d6942"
      },
      "source": [
        "**DATA QUALITY AND CHECKS**"
      ]
    },
    {
      "cell_type": "markdown",
      "id": "16c83677",
      "metadata": {
        "id": "16c83677"
      },
      "source": [
        "Once the aggregated dataset has been created, do a data audit. Create a data quality\n",
        "report which has the following basic structure:\n",
        "- Continuous Variables: (#unique values, percentage_missing_values, min, max,\n",
        "average, 25th percentile, 75th percentile, 90th percentile, 95th percentile)\n",
        "- Categorical Variables: (#Unique values, percentage_missing_values)\n",
        "- Highlight any data anomaly that you find and fix it"
      ]
    },
    {
      "cell_type": "code",
      "execution_count": null,
      "id": "6971aff1",
      "metadata": {
        "id": "6971aff1"
      },
      "outputs": [],
      "source": [
        "# creating variables for numerical and categorical columns\n",
        "num_cols = merged_data.select_dtypes(include=['int64', 'float64']).columns\n",
        "cat_cols = merged_data.select_dtypes(include=['object']).columns"
      ]
    },
    {
      "cell_type": "code",
      "execution_count": null,
      "id": "beac4ecf",
      "metadata": {
        "id": "beac4ecf",
        "outputId": "f3d583be-a7dc-4daf-a79d-aad051692d57"
      },
      "outputs": [
        {
          "name": "stdout",
          "output_type": "stream",
          "text": [
            "(59,)\n",
            "(10,)\n"
          ]
        }
      ],
      "source": [
        "print(num_cols.shape)\n",
        "print(cat_cols.shape)"
      ]
    },
    {
      "cell_type": "markdown",
      "id": "2204f12b",
      "metadata": {
        "id": "2204f12b"
      },
      "source": [
        "**Continuous Variable Analysis**"
      ]
    },
    {
      "cell_type": "code",
      "execution_count": null,
      "id": "dcbb51e5",
      "metadata": {
        "scrolled": true,
        "id": "dcbb51e5",
        "outputId": "c9e35d60-c8ca-4550-fd0b-5f760715a60b"
      },
      "outputs": [
        {
          "name": "stdout",
          "output_type": "stream",
          "text": [
            "Continuous Variables:\n",
            "\n"
          ]
        },
        {
          "data": {
            "text/html": [
              "<div>\n",
              "<style scoped>\n",
              "    .dataframe tbody tr th:only-of-type {\n",
              "        vertical-align: middle;\n",
              "    }\n",
              "\n",
              "    .dataframe tbody tr th {\n",
              "        vertical-align: top;\n",
              "    }\n",
              "\n",
              "    .dataframe thead th {\n",
              "        text-align: right;\n",
              "    }\n",
              "</style>\n",
              "<table border=\"1\" class=\"dataframe\">\n",
              "  <thead>\n",
              "    <tr style=\"text-align: right;\">\n",
              "      <th></th>\n",
              "      <th>count</th>\n",
              "      <th>mean</th>\n",
              "      <th>std</th>\n",
              "      <th>min</th>\n",
              "      <th>25%</th>\n",
              "      <th>50%</th>\n",
              "      <th>75%</th>\n",
              "      <th>90%</th>\n",
              "      <th>95%</th>\n",
              "      <th>max</th>\n",
              "      <th>#unique_values</th>\n",
              "      <th>percentage_missng_values</th>\n",
              "    </tr>\n",
              "  </thead>\n",
              "  <tbody>\n",
              "    <tr>\n",
              "      <th>listing_id</th>\n",
              "      <td>11468769.0</td>\n",
              "      <td>2.279420e+07</td>\n",
              "      <td>1.415612e+07</td>\n",
              "      <td>50904.00000</td>\n",
              "      <td>1.001510e+07</td>\n",
              "      <td>2.165832e+07</td>\n",
              "      <td>3.390546e+07</td>\n",
              "      <td>4.375509e+07</td>\n",
              "      <td>4.819350e+07</td>\n",
              "      <td>5.382519e+07</td>\n",
              "      <td>1525</td>\n",
              "      <td>0.000000</td>\n",
              "    </tr>\n",
              "    <tr>\n",
              "      <th>latitude</th>\n",
              "      <td>11468769.0</td>\n",
              "      <td>5.121678e+01</td>\n",
              "      <td>1.143767e-02</td>\n",
              "      <td>51.16288</td>\n",
              "      <td>5.121157e+01</td>\n",
              "      <td>5.121865e+01</td>\n",
              "      <td>5.122224e+01</td>\n",
              "      <td>5.122570e+01</td>\n",
              "      <td>5.122868e+01</td>\n",
              "      <td>5.134940e+01</td>\n",
              "      <td>1211</td>\n",
              "      <td>0.000000</td>\n",
              "    </tr>\n",
              "    <tr>\n",
              "      <th>longitude</th>\n",
              "      <td>11468769.0</td>\n",
              "      <td>4.413001e+00</td>\n",
              "      <td>1.682187e-02</td>\n",
              "      <td>4.29077</td>\n",
              "      <td>4.402130e+00</td>\n",
              "      <td>4.408870e+00</td>\n",
              "      <td>4.421600e+00</td>\n",
              "      <td>4.434460e+00</td>\n",
              "      <td>4.444640e+00</td>\n",
              "      <td>4.483470e+00</td>\n",
              "      <td>1309</td>\n",
              "      <td>0.000000</td>\n",
              "    </tr>\n",
              "    <tr>\n",
              "      <th>accomodates</th>\n",
              "      <td>11468769.0</td>\n",
              "      <td>3.673475e+00</td>\n",
              "      <td>2.461185e+00</td>\n",
              "      <td>1.00000</td>\n",
              "      <td>2.000000e+00</td>\n",
              "      <td>3.000000e+00</td>\n",
              "      <td>4.000000e+00</td>\n",
              "      <td>6.000000e+00</td>\n",
              "      <td>9.000000e+00</td>\n",
              "      <td>1.600000e+01</td>\n",
              "      <td>15</td>\n",
              "      <td>0.000000</td>\n",
              "    </tr>\n",
              "    <tr>\n",
              "      <th>bedrooms</th>\n",
              "      <td>11468769.0</td>\n",
              "      <td>1.442027e+00</td>\n",
              "      <td>8.979150e-01</td>\n",
              "      <td>1.00000</td>\n",
              "      <td>1.000000e+00</td>\n",
              "      <td>1.000000e+00</td>\n",
              "      <td>2.000000e+00</td>\n",
              "      <td>2.000000e+00</td>\n",
              "      <td>3.000000e+00</td>\n",
              "      <td>1.100000e+01</td>\n",
              "      <td>9</td>\n",
              "      <td>0.000000</td>\n",
              "    </tr>\n",
              "    <tr>\n",
              "      <th>beds</th>\n",
              "      <td>11468769.0</td>\n",
              "      <td>2.188858e+00</td>\n",
              "      <td>1.723040e+00</td>\n",
              "      <td>1.00000</td>\n",
              "      <td>1.000000e+00</td>\n",
              "      <td>2.000000e+00</td>\n",
              "      <td>3.000000e+00</td>\n",
              "      <td>4.000000e+00</td>\n",
              "      <td>5.000000e+00</td>\n",
              "      <td>2.500000e+01</td>\n",
              "      <td>15</td>\n",
              "      <td>0.000000</td>\n",
              "    </tr>\n",
              "    <tr>\n",
              "      <th>host_id</th>\n",
              "      <td>11468769.0</td>\n",
              "      <td>9.463499e+07</td>\n",
              "      <td>9.813248e+07</td>\n",
              "      <td>234077.00000</td>\n",
              "      <td>1.599483e+07</td>\n",
              "      <td>4.894307e+07</td>\n",
              "      <td>1.654369e+08</td>\n",
              "      <td>2.303694e+08</td>\n",
              "      <td>3.142372e+08</td>\n",
              "      <td>4.359994e+08</td>\n",
              "      <td>987</td>\n",
              "      <td>0.000000</td>\n",
              "    </tr>\n",
              "    <tr>\n",
              "      <th>property_type_Boat</th>\n",
              "      <td>11468769.0</td>\n",
              "      <td>0.000000e+00</td>\n",
              "      <td>0.000000e+00</td>\n",
              "      <td>0.00000</td>\n",
              "      <td>0.000000e+00</td>\n",
              "      <td>0.000000e+00</td>\n",
              "      <td>0.000000e+00</td>\n",
              "      <td>0.000000e+00</td>\n",
              "      <td>0.000000e+00</td>\n",
              "      <td>0.000000e+00</td>\n",
              "      <td>1</td>\n",
              "      <td>0.000000</td>\n",
              "    </tr>\n",
              "    <tr>\n",
              "      <th>property_type_Casa particular</th>\n",
              "      <td>11468769.0</td>\n",
              "      <td>6.312796e-05</td>\n",
              "      <td>7.945060e-03</td>\n",
              "      <td>0.00000</td>\n",
              "      <td>0.000000e+00</td>\n",
              "      <td>0.000000e+00</td>\n",
              "      <td>0.000000e+00</td>\n",
              "      <td>0.000000e+00</td>\n",
              "      <td>0.000000e+00</td>\n",
              "      <td>1.000000e+00</td>\n",
              "      <td>2</td>\n",
              "      <td>0.000000</td>\n",
              "    </tr>\n",
              "    <tr>\n",
              "      <th>property_type_Castle</th>\n",
              "      <td>11468769.0</td>\n",
              "      <td>0.000000e+00</td>\n",
              "      <td>0.000000e+00</td>\n",
              "      <td>0.00000</td>\n",
              "      <td>0.000000e+00</td>\n",
              "      <td>0.000000e+00</td>\n",
              "      <td>0.000000e+00</td>\n",
              "      <td>0.000000e+00</td>\n",
              "      <td>0.000000e+00</td>\n",
              "      <td>0.000000e+00</td>\n",
              "      <td>1</td>\n",
              "      <td>0.000000</td>\n",
              "    </tr>\n",
              "    <tr>\n",
              "      <th>property_type_Entire condominium (condo)</th>\n",
              "      <td>11468769.0</td>\n",
              "      <td>2.823878e-02</td>\n",
              "      <td>1.656543e-01</td>\n",
              "      <td>0.00000</td>\n",
              "      <td>0.000000e+00</td>\n",
              "      <td>0.000000e+00</td>\n",
              "      <td>0.000000e+00</td>\n",
              "      <td>0.000000e+00</td>\n",
              "      <td>0.000000e+00</td>\n",
              "      <td>1.000000e+00</td>\n",
              "      <td>2</td>\n",
              "      <td>0.000000</td>\n",
              "    </tr>\n",
              "    <tr>\n",
              "      <th>property_type_Entire cottage</th>\n",
              "      <td>11468769.0</td>\n",
              "      <td>2.135016e-03</td>\n",
              "      <td>4.615688e-02</td>\n",
              "      <td>0.00000</td>\n",
              "      <td>0.000000e+00</td>\n",
              "      <td>0.000000e+00</td>\n",
              "      <td>0.000000e+00</td>\n",
              "      <td>0.000000e+00</td>\n",
              "      <td>0.000000e+00</td>\n",
              "      <td>1.000000e+00</td>\n",
              "      <td>2</td>\n",
              "      <td>0.000000</td>\n",
              "    </tr>\n",
              "    <tr>\n",
              "      <th>property_type_Entire guest suite</th>\n",
              "      <td>11468769.0</td>\n",
              "      <td>5.937429e-03</td>\n",
              "      <td>7.682562e-02</td>\n",
              "      <td>0.00000</td>\n",
              "      <td>0.000000e+00</td>\n",
              "      <td>0.000000e+00</td>\n",
              "      <td>0.000000e+00</td>\n",
              "      <td>0.000000e+00</td>\n",
              "      <td>0.000000e+00</td>\n",
              "      <td>1.000000e+00</td>\n",
              "      <td>2</td>\n",
              "      <td>0.000000</td>\n",
              "    </tr>\n",
              "    <tr>\n",
              "      <th>property_type_Entire guesthouse</th>\n",
              "      <td>11468769.0</td>\n",
              "      <td>1.874569e-03</td>\n",
              "      <td>4.325570e-02</td>\n",
              "      <td>0.00000</td>\n",
              "      <td>0.000000e+00</td>\n",
              "      <td>0.000000e+00</td>\n",
              "      <td>0.000000e+00</td>\n",
              "      <td>0.000000e+00</td>\n",
              "      <td>0.000000e+00</td>\n",
              "      <td>1.000000e+00</td>\n",
              "      <td>2</td>\n",
              "      <td>0.000000</td>\n",
              "    </tr>\n",
              "    <tr>\n",
              "      <th>property_type_Entire loft</th>\n",
              "      <td>11468769.0</td>\n",
              "      <td>7.666385e-02</td>\n",
              "      <td>2.660573e-01</td>\n",
              "      <td>0.00000</td>\n",
              "      <td>0.000000e+00</td>\n",
              "      <td>0.000000e+00</td>\n",
              "      <td>0.000000e+00</td>\n",
              "      <td>0.000000e+00</td>\n",
              "      <td>1.000000e+00</td>\n",
              "      <td>1.000000e+00</td>\n",
              "      <td>2</td>\n",
              "      <td>0.000000</td>\n",
              "    </tr>\n",
              "    <tr>\n",
              "      <th>property_type_Entire rental unit</th>\n",
              "      <td>11468769.0</td>\n",
              "      <td>5.843331e-01</td>\n",
              "      <td>4.928366e-01</td>\n",
              "      <td>0.00000</td>\n",
              "      <td>0.000000e+00</td>\n",
              "      <td>1.000000e+00</td>\n",
              "      <td>1.000000e+00</td>\n",
              "      <td>1.000000e+00</td>\n",
              "      <td>1.000000e+00</td>\n",
              "      <td>1.000000e+00</td>\n",
              "      <td>2</td>\n",
              "      <td>0.000000</td>\n",
              "    </tr>\n",
              "    <tr>\n",
              "      <th>property_type_Entire residential home</th>\n",
              "      <td>11468769.0</td>\n",
              "      <td>3.815841e-02</td>\n",
              "      <td>1.915786e-01</td>\n",
              "      <td>0.00000</td>\n",
              "      <td>0.000000e+00</td>\n",
              "      <td>0.000000e+00</td>\n",
              "      <td>0.000000e+00</td>\n",
              "      <td>0.000000e+00</td>\n",
              "      <td>0.000000e+00</td>\n",
              "      <td>1.000000e+00</td>\n",
              "      <td>2</td>\n",
              "      <td>0.000000</td>\n",
              "    </tr>\n",
              "    <tr>\n",
              "      <th>property_type_Entire serviced apartment</th>\n",
              "      <td>11468769.0</td>\n",
              "      <td>6.415771e-03</td>\n",
              "      <td>7.984115e-02</td>\n",
              "      <td>0.00000</td>\n",
              "      <td>0.000000e+00</td>\n",
              "      <td>0.000000e+00</td>\n",
              "      <td>0.000000e+00</td>\n",
              "      <td>0.000000e+00</td>\n",
              "      <td>0.000000e+00</td>\n",
              "      <td>1.000000e+00</td>\n",
              "      <td>2</td>\n",
              "      <td>0.000000</td>\n",
              "    </tr>\n",
              "    <tr>\n",
              "      <th>property_type_Entire townhouse</th>\n",
              "      <td>11468769.0</td>\n",
              "      <td>3.732816e-02</td>\n",
              "      <td>1.895647e-01</td>\n",
              "      <td>0.00000</td>\n",
              "      <td>0.000000e+00</td>\n",
              "      <td>0.000000e+00</td>\n",
              "      <td>0.000000e+00</td>\n",
              "      <td>0.000000e+00</td>\n",
              "      <td>0.000000e+00</td>\n",
              "      <td>1.000000e+00</td>\n",
              "      <td>2</td>\n",
              "      <td>0.000000</td>\n",
              "    </tr>\n",
              "    <tr>\n",
              "      <th>property_type_Entire vacation home</th>\n",
              "      <td>11468769.0</td>\n",
              "      <td>3.365662e-05</td>\n",
              "      <td>5.801335e-03</td>\n",
              "      <td>0.00000</td>\n",
              "      <td>0.000000e+00</td>\n",
              "      <td>0.000000e+00</td>\n",
              "      <td>0.000000e+00</td>\n",
              "      <td>0.000000e+00</td>\n",
              "      <td>0.000000e+00</td>\n",
              "      <td>1.000000e+00</td>\n",
              "      <td>2</td>\n",
              "      <td>0.000000</td>\n",
              "    </tr>\n",
              "    <tr>\n",
              "      <th>property_type_Entire villa</th>\n",
              "      <td>11468769.0</td>\n",
              "      <td>3.086643e-04</td>\n",
              "      <td>1.756613e-02</td>\n",
              "      <td>0.00000</td>\n",
              "      <td>0.000000e+00</td>\n",
              "      <td>0.000000e+00</td>\n",
              "      <td>0.000000e+00</td>\n",
              "      <td>0.000000e+00</td>\n",
              "      <td>0.000000e+00</td>\n",
              "      <td>1.000000e+00</td>\n",
              "      <td>2</td>\n",
              "      <td>0.000000</td>\n",
              "    </tr>\n",
              "    <tr>\n",
              "      <th>property_type_Houseboat</th>\n",
              "      <td>11468769.0</td>\n",
              "      <td>6.861242e-04</td>\n",
              "      <td>2.618499e-02</td>\n",
              "      <td>0.00000</td>\n",
              "      <td>0.000000e+00</td>\n",
              "      <td>0.000000e+00</td>\n",
              "      <td>0.000000e+00</td>\n",
              "      <td>0.000000e+00</td>\n",
              "      <td>0.000000e+00</td>\n",
              "      <td>1.000000e+00</td>\n",
              "      <td>2</td>\n",
              "      <td>0.000000</td>\n",
              "    </tr>\n",
              "    <tr>\n",
              "      <th>property_type_Private room</th>\n",
              "      <td>11468769.0</td>\n",
              "      <td>7.327203e-03</td>\n",
              "      <td>8.528491e-02</td>\n",
              "      <td>0.00000</td>\n",
              "      <td>0.000000e+00</td>\n",
              "      <td>0.000000e+00</td>\n",
              "      <td>0.000000e+00</td>\n",
              "      <td>0.000000e+00</td>\n",
              "      <td>0.000000e+00</td>\n",
              "      <td>1.000000e+00</td>\n",
              "      <td>2</td>\n",
              "      <td>0.000000</td>\n",
              "    </tr>\n",
              "    <tr>\n",
              "      <th>property_type_Private room in bed and breakfast</th>\n",
              "      <td>11468769.0</td>\n",
              "      <td>7.262244e-03</td>\n",
              "      <td>8.490880e-02</td>\n",
              "      <td>0.00000</td>\n",
              "      <td>0.000000e+00</td>\n",
              "      <td>0.000000e+00</td>\n",
              "      <td>0.000000e+00</td>\n",
              "      <td>0.000000e+00</td>\n",
              "      <td>0.000000e+00</td>\n",
              "      <td>1.000000e+00</td>\n",
              "      <td>2</td>\n",
              "      <td>0.000000</td>\n",
              "    </tr>\n",
              "    <tr>\n",
              "      <th>property_type_Private room in boat</th>\n",
              "      <td>11468769.0</td>\n",
              "      <td>2.618590e-03</td>\n",
              "      <td>5.110512e-02</td>\n",
              "      <td>0.00000</td>\n",
              "      <td>0.000000e+00</td>\n",
              "      <td>0.000000e+00</td>\n",
              "      <td>0.000000e+00</td>\n",
              "      <td>0.000000e+00</td>\n",
              "      <td>0.000000e+00</td>\n",
              "      <td>1.000000e+00</td>\n",
              "      <td>2</td>\n",
              "      <td>0.000000</td>\n",
              "    </tr>\n",
              "    <tr>\n",
              "      <th>property_type_Private room in casa particular</th>\n",
              "      <td>11468769.0</td>\n",
              "      <td>4.978738e-05</td>\n",
              "      <td>7.055842e-03</td>\n",
              "      <td>0.00000</td>\n",
              "      <td>0.000000e+00</td>\n",
              "      <td>0.000000e+00</td>\n",
              "      <td>0.000000e+00</td>\n",
              "      <td>0.000000e+00</td>\n",
              "      <td>0.000000e+00</td>\n",
              "      <td>1.000000e+00</td>\n",
              "      <td>2</td>\n",
              "      <td>0.000000</td>\n",
              "    </tr>\n",
              "    <tr>\n",
              "      <th>property_type_Private room in condominium (condo)</th>\n",
              "      <td>11468769.0</td>\n",
              "      <td>3.144714e-03</td>\n",
              "      <td>5.598951e-02</td>\n",
              "      <td>0.00000</td>\n",
              "      <td>0.000000e+00</td>\n",
              "      <td>0.000000e+00</td>\n",
              "      <td>0.000000e+00</td>\n",
              "      <td>0.000000e+00</td>\n",
              "      <td>0.000000e+00</td>\n",
              "      <td>1.000000e+00</td>\n",
              "      <td>2</td>\n",
              "      <td>0.000000</td>\n",
              "    </tr>\n",
              "    <tr>\n",
              "      <th>property_type_Private room in guest suite</th>\n",
              "      <td>11468769.0</td>\n",
              "      <td>2.888104e-03</td>\n",
              "      <td>5.366343e-02</td>\n",
              "      <td>0.00000</td>\n",
              "      <td>0.000000e+00</td>\n",
              "      <td>0.000000e+00</td>\n",
              "      <td>0.000000e+00</td>\n",
              "      <td>0.000000e+00</td>\n",
              "      <td>0.000000e+00</td>\n",
              "      <td>1.000000e+00</td>\n",
              "      <td>2</td>\n",
              "      <td>0.000000</td>\n",
              "    </tr>\n",
              "    <tr>\n",
              "      <th>property_type_Private room in guesthouse</th>\n",
              "      <td>11468769.0</td>\n",
              "      <td>8.209076e-03</td>\n",
              "      <td>9.023130e-02</td>\n",
              "      <td>0.00000</td>\n",
              "      <td>0.000000e+00</td>\n",
              "      <td>0.000000e+00</td>\n",
              "      <td>0.000000e+00</td>\n",
              "      <td>0.000000e+00</td>\n",
              "      <td>0.000000e+00</td>\n",
              "      <td>1.000000e+00</td>\n",
              "      <td>2</td>\n",
              "      <td>0.000000</td>\n",
              "    </tr>\n",
              "    <tr>\n",
              "      <th>property_type_Private room in loft</th>\n",
              "      <td>11468769.0</td>\n",
              "      <td>3.703187e-03</td>\n",
              "      <td>6.074104e-02</td>\n",
              "      <td>0.00000</td>\n",
              "      <td>0.000000e+00</td>\n",
              "      <td>0.000000e+00</td>\n",
              "      <td>0.000000e+00</td>\n",
              "      <td>0.000000e+00</td>\n",
              "      <td>0.000000e+00</td>\n",
              "      <td>1.000000e+00</td>\n",
              "      <td>2</td>\n",
              "      <td>0.000000</td>\n",
              "    </tr>\n",
              "    <tr>\n",
              "      <th>property_type_Private room in religious building</th>\n",
              "      <td>11468769.0</td>\n",
              "      <td>2.249588e-04</td>\n",
              "      <td>1.499694e-02</td>\n",
              "      <td>0.00000</td>\n",
              "      <td>0.000000e+00</td>\n",
              "      <td>0.000000e+00</td>\n",
              "      <td>0.000000e+00</td>\n",
              "      <td>0.000000e+00</td>\n",
              "      <td>0.000000e+00</td>\n",
              "      <td>1.000000e+00</td>\n",
              "      <td>2</td>\n",
              "      <td>0.000000</td>\n",
              "    </tr>\n",
              "    <tr>\n",
              "      <th>property_type_Private room in rental unit</th>\n",
              "      <td>11468769.0</td>\n",
              "      <td>4.524531e-02</td>\n",
              "      <td>2.078417e-01</td>\n",
              "      <td>0.00000</td>\n",
              "      <td>0.000000e+00</td>\n",
              "      <td>0.000000e+00</td>\n",
              "      <td>0.000000e+00</td>\n",
              "      <td>0.000000e+00</td>\n",
              "      <td>0.000000e+00</td>\n",
              "      <td>1.000000e+00</td>\n",
              "      <td>2</td>\n",
              "      <td>0.000000</td>\n",
              "    </tr>\n",
              "    <tr>\n",
              "      <th>property_type_Private room in residential home</th>\n",
              "      <td>11468769.0</td>\n",
              "      <td>4.846536e-02</td>\n",
              "      <td>2.147475e-01</td>\n",
              "      <td>0.00000</td>\n",
              "      <td>0.000000e+00</td>\n",
              "      <td>0.000000e+00</td>\n",
              "      <td>0.000000e+00</td>\n",
              "      <td>0.000000e+00</td>\n",
              "      <td>0.000000e+00</td>\n",
              "      <td>1.000000e+00</td>\n",
              "      <td>2</td>\n",
              "      <td>0.000000</td>\n",
              "    </tr>\n",
              "    <tr>\n",
              "      <th>property_type_Private room in serviced apartment</th>\n",
              "      <td>11468769.0</td>\n",
              "      <td>0.000000e+00</td>\n",
              "      <td>0.000000e+00</td>\n",
              "      <td>0.00000</td>\n",
              "      <td>0.000000e+00</td>\n",
              "      <td>0.000000e+00</td>\n",
              "      <td>0.000000e+00</td>\n",
              "      <td>0.000000e+00</td>\n",
              "      <td>0.000000e+00</td>\n",
              "      <td>0.000000e+00</td>\n",
              "      <td>1</td>\n",
              "      <td>0.000000</td>\n",
              "    </tr>\n",
              "    <tr>\n",
              "      <th>property_type_Private room in townhouse</th>\n",
              "      <td>11468769.0</td>\n",
              "      <td>5.774421e-02</td>\n",
              "      <td>2.332591e-01</td>\n",
              "      <td>0.00000</td>\n",
              "      <td>0.000000e+00</td>\n",
              "      <td>0.000000e+00</td>\n",
              "      <td>0.000000e+00</td>\n",
              "      <td>0.000000e+00</td>\n",
              "      <td>1.000000e+00</td>\n",
              "      <td>1.000000e+00</td>\n",
              "      <td>2</td>\n",
              "      <td>0.000000</td>\n",
              "    </tr>\n",
              "    <tr>\n",
              "      <th>property_type_Private room in villa</th>\n",
              "      <td>11468769.0</td>\n",
              "      <td>0.000000e+00</td>\n",
              "      <td>0.000000e+00</td>\n",
              "      <td>0.00000</td>\n",
              "      <td>0.000000e+00</td>\n",
              "      <td>0.000000e+00</td>\n",
              "      <td>0.000000e+00</td>\n",
              "      <td>0.000000e+00</td>\n",
              "      <td>0.000000e+00</td>\n",
              "      <td>0.000000e+00</td>\n",
              "      <td>1</td>\n",
              "      <td>0.000000</td>\n",
              "    </tr>\n",
              "    <tr>\n",
              "      <th>property_type_Room in aparthotel</th>\n",
              "      <td>11468769.0</td>\n",
              "      <td>3.012703e-03</td>\n",
              "      <td>5.480536e-02</td>\n",
              "      <td>0.00000</td>\n",
              "      <td>0.000000e+00</td>\n",
              "      <td>0.000000e+00</td>\n",
              "      <td>0.000000e+00</td>\n",
              "      <td>0.000000e+00</td>\n",
              "      <td>0.000000e+00</td>\n",
              "      <td>1.000000e+00</td>\n",
              "      <td>2</td>\n",
              "      <td>0.000000</td>\n",
              "    </tr>\n",
              "    <tr>\n",
              "      <th>property_type_Room in boutique hotel</th>\n",
              "      <td>11468769.0</td>\n",
              "      <td>2.137160e-02</td>\n",
              "      <td>1.446197e-01</td>\n",
              "      <td>0.00000</td>\n",
              "      <td>0.000000e+00</td>\n",
              "      <td>0.000000e+00</td>\n",
              "      <td>0.000000e+00</td>\n",
              "      <td>0.000000e+00</td>\n",
              "      <td>0.000000e+00</td>\n",
              "      <td>1.000000e+00</td>\n",
              "      <td>2</td>\n",
              "      <td>0.000000</td>\n",
              "    </tr>\n",
              "    <tr>\n",
              "      <th>property_type_Room in hotel</th>\n",
              "      <td>11468769.0</td>\n",
              "      <td>4.105061e-04</td>\n",
              "      <td>2.025679e-02</td>\n",
              "      <td>0.00000</td>\n",
              "      <td>0.000000e+00</td>\n",
              "      <td>0.000000e+00</td>\n",
              "      <td>0.000000e+00</td>\n",
              "      <td>0.000000e+00</td>\n",
              "      <td>0.000000e+00</td>\n",
              "      <td>1.000000e+00</td>\n",
              "      <td>2</td>\n",
              "      <td>0.000000</td>\n",
              "    </tr>\n",
              "    <tr>\n",
              "      <th>property_type_Shared room in bed and breakfast</th>\n",
              "      <td>11468769.0</td>\n",
              "      <td>0.000000e+00</td>\n",
              "      <td>0.000000e+00</td>\n",
              "      <td>0.00000</td>\n",
              "      <td>0.000000e+00</td>\n",
              "      <td>0.000000e+00</td>\n",
              "      <td>0.000000e+00</td>\n",
              "      <td>0.000000e+00</td>\n",
              "      <td>0.000000e+00</td>\n",
              "      <td>0.000000e+00</td>\n",
              "      <td>1</td>\n",
              "      <td>0.000000</td>\n",
              "    </tr>\n",
              "    <tr>\n",
              "      <th>property_type_Shared room in casa particular</th>\n",
              "      <td>11468769.0</td>\n",
              "      <td>3.365662e-05</td>\n",
              "      <td>5.801335e-03</td>\n",
              "      <td>0.00000</td>\n",
              "      <td>0.000000e+00</td>\n",
              "      <td>0.000000e+00</td>\n",
              "      <td>0.000000e+00</td>\n",
              "      <td>0.000000e+00</td>\n",
              "      <td>0.000000e+00</td>\n",
              "      <td>1.000000e+00</td>\n",
              "      <td>2</td>\n",
              "      <td>0.000000</td>\n",
              "    </tr>\n",
              "    <tr>\n",
              "      <th>property_type_Shared room in loft</th>\n",
              "      <td>11468769.0</td>\n",
              "      <td>0.000000e+00</td>\n",
              "      <td>0.000000e+00</td>\n",
              "      <td>0.00000</td>\n",
              "      <td>0.000000e+00</td>\n",
              "      <td>0.000000e+00</td>\n",
              "      <td>0.000000e+00</td>\n",
              "      <td>0.000000e+00</td>\n",
              "      <td>0.000000e+00</td>\n",
              "      <td>0.000000e+00</td>\n",
              "      <td>1</td>\n",
              "      <td>0.000000</td>\n",
              "    </tr>\n",
              "    <tr>\n",
              "      <th>property_type_Shared room in residential home</th>\n",
              "      <td>11468769.0</td>\n",
              "      <td>1.995942e-03</td>\n",
              "      <td>4.463136e-02</td>\n",
              "      <td>0.00000</td>\n",
              "      <td>0.000000e+00</td>\n",
              "      <td>0.000000e+00</td>\n",
              "      <td>0.000000e+00</td>\n",
              "      <td>0.000000e+00</td>\n",
              "      <td>0.000000e+00</td>\n",
              "      <td>1.000000e+00</td>\n",
              "      <td>2</td>\n",
              "      <td>0.000000</td>\n",
              "    </tr>\n",
              "    <tr>\n",
              "      <th>property_type_Tent</th>\n",
              "      <td>11468769.0</td>\n",
              "      <td>3.243591e-05</td>\n",
              "      <td>5.695161e-03</td>\n",
              "      <td>0.00000</td>\n",
              "      <td>0.000000e+00</td>\n",
              "      <td>0.000000e+00</td>\n",
              "      <td>0.000000e+00</td>\n",
              "      <td>0.000000e+00</td>\n",
              "      <td>0.000000e+00</td>\n",
              "      <td>1.000000e+00</td>\n",
              "      <td>2</td>\n",
              "      <td>0.000000</td>\n",
              "    </tr>\n",
              "    <tr>\n",
              "      <th>property_type_Tiny house</th>\n",
              "      <td>11468769.0</td>\n",
              "      <td>1.105175e-03</td>\n",
              "      <td>3.322580e-02</td>\n",
              "      <td>0.00000</td>\n",
              "      <td>0.000000e+00</td>\n",
              "      <td>0.000000e+00</td>\n",
              "      <td>0.000000e+00</td>\n",
              "      <td>0.000000e+00</td>\n",
              "      <td>0.000000e+00</td>\n",
              "      <td>1.000000e+00</td>\n",
              "      <td>2</td>\n",
              "      <td>0.000000</td>\n",
              "    </tr>\n",
              "    <tr>\n",
              "      <th>property_type_Yurt</th>\n",
              "      <td>11468769.0</td>\n",
              "      <td>2.978611e-03</td>\n",
              "      <td>5.449531e-02</td>\n",
              "      <td>0.00000</td>\n",
              "      <td>0.000000e+00</td>\n",
              "      <td>0.000000e+00</td>\n",
              "      <td>0.000000e+00</td>\n",
              "      <td>0.000000e+00</td>\n",
              "      <td>0.000000e+00</td>\n",
              "      <td>1.000000e+00</td>\n",
              "      <td>2</td>\n",
              "      <td>0.000000</td>\n",
              "    </tr>\n",
              "    <tr>\n",
              "      <th>room_type_Entire home/apt</th>\n",
              "      <td>11468769.0</td>\n",
              "      <td>7.872484e-01</td>\n",
              "      <td>4.092534e-01</td>\n",
              "      <td>0.00000</td>\n",
              "      <td>1.000000e+00</td>\n",
              "      <td>1.000000e+00</td>\n",
              "      <td>1.000000e+00</td>\n",
              "      <td>1.000000e+00</td>\n",
              "      <td>1.000000e+00</td>\n",
              "      <td>1.000000e+00</td>\n",
              "      <td>2</td>\n",
              "      <td>0.000000</td>\n",
              "    </tr>\n",
              "    <tr>\n",
              "      <th>room_type_Hotel room</th>\n",
              "      <td>11468769.0</td>\n",
              "      <td>9.469194e-04</td>\n",
              "      <td>3.075748e-02</td>\n",
              "      <td>0.00000</td>\n",
              "      <td>0.000000e+00</td>\n",
              "      <td>0.000000e+00</td>\n",
              "      <td>0.000000e+00</td>\n",
              "      <td>0.000000e+00</td>\n",
              "      <td>0.000000e+00</td>\n",
              "      <td>1.000000e+00</td>\n",
              "      <td>2</td>\n",
              "      <td>0.000000</td>\n",
              "    </tr>\n",
              "    <tr>\n",
              "      <th>room_type_Private room</th>\n",
              "      <td>11468769.0</td>\n",
              "      <td>2.097751e-01</td>\n",
              "      <td>4.071480e-01</td>\n",
              "      <td>0.00000</td>\n",
              "      <td>0.000000e+00</td>\n",
              "      <td>0.000000e+00</td>\n",
              "      <td>0.000000e+00</td>\n",
              "      <td>1.000000e+00</td>\n",
              "      <td>1.000000e+00</td>\n",
              "      <td>1.000000e+00</td>\n",
              "      <td>2</td>\n",
              "      <td>0.000000</td>\n",
              "    </tr>\n",
              "    <tr>\n",
              "      <th>room_type_Shared room</th>\n",
              "      <td>11468769.0</td>\n",
              "      <td>2.029599e-03</td>\n",
              "      <td>4.500533e-02</td>\n",
              "      <td>0.00000</td>\n",
              "      <td>0.000000e+00</td>\n",
              "      <td>0.000000e+00</td>\n",
              "      <td>0.000000e+00</td>\n",
              "      <td>0.000000e+00</td>\n",
              "      <td>0.000000e+00</td>\n",
              "      <td>1.000000e+00</td>\n",
              "      <td>2</td>\n",
              "      <td>0.000000</td>\n",
              "    </tr>\n",
              "    <tr>\n",
              "      <th>calender_id</th>\n",
              "      <td>11468769.0</td>\n",
              "      <td>1.594495e+05</td>\n",
              "      <td>9.230433e+04</td>\n",
              "      <td>1.00000</td>\n",
              "      <td>7.955400e+04</td>\n",
              "      <td>1.590530e+05</td>\n",
              "      <td>2.394860e+05</td>\n",
              "      <td>2.875700e+05</td>\n",
              "      <td>3.034800e+05</td>\n",
              "      <td>3.191920e+05</td>\n",
              "      <td>278088</td>\n",
              "      <td>0.000000</td>\n",
              "    </tr>\n",
              "    <tr>\n",
              "      <th>available</th>\n",
              "      <td>11468769.0</td>\n",
              "      <td>5.443685e-01</td>\n",
              "      <td>4.980276e-01</td>\n",
              "      <td>0.00000</td>\n",
              "      <td>0.000000e+00</td>\n",
              "      <td>1.000000e+00</td>\n",
              "      <td>1.000000e+00</td>\n",
              "      <td>1.000000e+00</td>\n",
              "      <td>1.000000e+00</td>\n",
              "      <td>1.000000e+00</td>\n",
              "      <td>2</td>\n",
              "      <td>0.000000</td>\n",
              "    </tr>\n",
              "    <tr>\n",
              "      <th>price</th>\n",
              "      <td>11468273.0</td>\n",
              "      <td>9.095577e+01</td>\n",
              "      <td>1.175237e+02</td>\n",
              "      <td>14.00000</td>\n",
              "      <td>5.500000e+01</td>\n",
              "      <td>7.000000e+01</td>\n",
              "      <td>9.900000e+01</td>\n",
              "      <td>1.500000e+02</td>\n",
              "      <td>2.000000e+02</td>\n",
              "      <td>5.800000e+03</td>\n",
              "      <td>559</td>\n",
              "      <td>0.004325</td>\n",
              "    </tr>\n",
              "    <tr>\n",
              "      <th>adjusted_price</th>\n",
              "      <td>11468769.0</td>\n",
              "      <td>8.319757e+01</td>\n",
              "      <td>4.272181e+01</td>\n",
              "      <td>14.00000</td>\n",
              "      <td>5.500000e+01</td>\n",
              "      <td>7.000000e+01</td>\n",
              "      <td>9.900000e+01</td>\n",
              "      <td>1.500000e+02</td>\n",
              "      <td>1.990000e+02</td>\n",
              "      <td>2.005000e+02</td>\n",
              "      <td>188</td>\n",
              "      <td>0.000000</td>\n",
              "    </tr>\n",
              "    <tr>\n",
              "      <th>minimum_nights</th>\n",
              "      <td>11468769.0</td>\n",
              "      <td>3.238779e+00</td>\n",
              "      <td>8.370485e+00</td>\n",
              "      <td>1.00000</td>\n",
              "      <td>1.000000e+00</td>\n",
              "      <td>2.000000e+00</td>\n",
              "      <td>2.000000e+00</td>\n",
              "      <td>3.000000e+00</td>\n",
              "      <td>7.000000e+00</td>\n",
              "      <td>3.000000e+02</td>\n",
              "      <td>30</td>\n",
              "      <td>0.000000</td>\n",
              "    </tr>\n",
              "    <tr>\n",
              "      <th>maximum_nights</th>\n",
              "      <td>11468769.0</td>\n",
              "      <td>9.822816e+02</td>\n",
              "      <td>8.305506e+02</td>\n",
              "      <td>1.00000</td>\n",
              "      <td>1.125000e+03</td>\n",
              "      <td>1.125000e+03</td>\n",
              "      <td>1.125000e+03</td>\n",
              "      <td>1.125000e+03</td>\n",
              "      <td>1.125000e+03</td>\n",
              "      <td>9.999000e+03</td>\n",
              "      <td>206</td>\n",
              "      <td>0.000000</td>\n",
              "    </tr>\n",
              "    <tr>\n",
              "      <th>adjusted_price_log</th>\n",
              "      <td>11468769.0</td>\n",
              "      <td>4.318938e+00</td>\n",
              "      <td>4.732476e-01</td>\n",
              "      <td>2.70805</td>\n",
              "      <td>4.025352e+00</td>\n",
              "      <td>4.262680e+00</td>\n",
              "      <td>4.605170e+00</td>\n",
              "      <td>5.017280e+00</td>\n",
              "      <td>5.298317e+00</td>\n",
              "      <td>5.305789e+00</td>\n",
              "      <td>188</td>\n",
              "      <td>0.000000</td>\n",
              "    </tr>\n",
              "    <tr>\n",
              "      <th>review_id</th>\n",
              "      <td>11468769.0</td>\n",
              "      <td>3.153082e+04</td>\n",
              "      <td>1.814675e+04</td>\n",
              "      <td>1.00000</td>\n",
              "      <td>1.589200e+04</td>\n",
              "      <td>3.156800e+04</td>\n",
              "      <td>4.718500e+04</td>\n",
              "      <td>5.670000e+04</td>\n",
              "      <td>5.983100e+04</td>\n",
              "      <td>6.298700e+04</td>\n",
              "      <td>62987</td>\n",
              "      <td>0.000000</td>\n",
              "    </tr>\n",
              "    <tr>\n",
              "      <th>reviewer_id</th>\n",
              "      <td>11468769.0</td>\n",
              "      <td>1.149964e+08</td>\n",
              "      <td>1.133122e+08</td>\n",
              "      <td>515.00000</td>\n",
              "      <td>2.437244e+07</td>\n",
              "      <td>7.239499e+07</td>\n",
              "      <td>1.783897e+08</td>\n",
              "      <td>2.948805e+08</td>\n",
              "      <td>3.657651e+08</td>\n",
              "      <td>4.367984e+08</td>\n",
              "      <td>58438</td>\n",
              "      <td>0.000000</td>\n",
              "    </tr>\n",
              "  </tbody>\n",
              "</table>\n",
              "</div>"
            ],
            "text/plain": [
              "                                                        count          mean  \\\n",
              "listing_id                                         11468769.0  2.279420e+07   \n",
              "latitude                                           11468769.0  5.121678e+01   \n",
              "longitude                                          11468769.0  4.413001e+00   \n",
              "accomodates                                        11468769.0  3.673475e+00   \n",
              "bedrooms                                           11468769.0  1.442027e+00   \n",
              "beds                                               11468769.0  2.188858e+00   \n",
              "host_id                                            11468769.0  9.463499e+07   \n",
              "property_type_Boat                                 11468769.0  0.000000e+00   \n",
              "property_type_Casa particular                      11468769.0  6.312796e-05   \n",
              "property_type_Castle                               11468769.0  0.000000e+00   \n",
              "property_type_Entire condominium (condo)           11468769.0  2.823878e-02   \n",
              "property_type_Entire cottage                       11468769.0  2.135016e-03   \n",
              "property_type_Entire guest suite                   11468769.0  5.937429e-03   \n",
              "property_type_Entire guesthouse                    11468769.0  1.874569e-03   \n",
              "property_type_Entire loft                          11468769.0  7.666385e-02   \n",
              "property_type_Entire rental unit                   11468769.0  5.843331e-01   \n",
              "property_type_Entire residential home              11468769.0  3.815841e-02   \n",
              "property_type_Entire serviced apartment            11468769.0  6.415771e-03   \n",
              "property_type_Entire townhouse                     11468769.0  3.732816e-02   \n",
              "property_type_Entire vacation home                 11468769.0  3.365662e-05   \n",
              "property_type_Entire villa                         11468769.0  3.086643e-04   \n",
              "property_type_Houseboat                            11468769.0  6.861242e-04   \n",
              "property_type_Private room                         11468769.0  7.327203e-03   \n",
              "property_type_Private room in bed and breakfast    11468769.0  7.262244e-03   \n",
              "property_type_Private room in boat                 11468769.0  2.618590e-03   \n",
              "property_type_Private room in casa particular      11468769.0  4.978738e-05   \n",
              "property_type_Private room in condominium (condo)  11468769.0  3.144714e-03   \n",
              "property_type_Private room in guest suite          11468769.0  2.888104e-03   \n",
              "property_type_Private room in guesthouse           11468769.0  8.209076e-03   \n",
              "property_type_Private room in loft                 11468769.0  3.703187e-03   \n",
              "property_type_Private room in religious building   11468769.0  2.249588e-04   \n",
              "property_type_Private room in rental unit          11468769.0  4.524531e-02   \n",
              "property_type_Private room in residential home     11468769.0  4.846536e-02   \n",
              "property_type_Private room in serviced apartment   11468769.0  0.000000e+00   \n",
              "property_type_Private room in townhouse            11468769.0  5.774421e-02   \n",
              "property_type_Private room in villa                11468769.0  0.000000e+00   \n",
              "property_type_Room in aparthotel                   11468769.0  3.012703e-03   \n",
              "property_type_Room in boutique hotel               11468769.0  2.137160e-02   \n",
              "property_type_Room in hotel                        11468769.0  4.105061e-04   \n",
              "property_type_Shared room in bed and breakfast     11468769.0  0.000000e+00   \n",
              "property_type_Shared room in casa particular       11468769.0  3.365662e-05   \n",
              "property_type_Shared room in loft                  11468769.0  0.000000e+00   \n",
              "property_type_Shared room in residential home      11468769.0  1.995942e-03   \n",
              "property_type_Tent                                 11468769.0  3.243591e-05   \n",
              "property_type_Tiny house                           11468769.0  1.105175e-03   \n",
              "property_type_Yurt                                 11468769.0  2.978611e-03   \n",
              "room_type_Entire home/apt                          11468769.0  7.872484e-01   \n",
              "room_type_Hotel room                               11468769.0  9.469194e-04   \n",
              "room_type_Private room                             11468769.0  2.097751e-01   \n",
              "room_type_Shared room                              11468769.0  2.029599e-03   \n",
              "calender_id                                        11468769.0  1.594495e+05   \n",
              "available                                          11468769.0  5.443685e-01   \n",
              "price                                              11468273.0  9.095577e+01   \n",
              "adjusted_price                                     11468769.0  8.319757e+01   \n",
              "minimum_nights                                     11468769.0  3.238779e+00   \n",
              "maximum_nights                                     11468769.0  9.822816e+02   \n",
              "adjusted_price_log                                 11468769.0  4.318938e+00   \n",
              "review_id                                          11468769.0  3.153082e+04   \n",
              "reviewer_id                                        11468769.0  1.149964e+08   \n",
              "\n",
              "                                                            std           min  \\\n",
              "listing_id                                         1.415612e+07   50904.00000   \n",
              "latitude                                           1.143767e-02      51.16288   \n",
              "longitude                                          1.682187e-02       4.29077   \n",
              "accomodates                                        2.461185e+00       1.00000   \n",
              "bedrooms                                           8.979150e-01       1.00000   \n",
              "beds                                               1.723040e+00       1.00000   \n",
              "host_id                                            9.813248e+07  234077.00000   \n",
              "property_type_Boat                                 0.000000e+00       0.00000   \n",
              "property_type_Casa particular                      7.945060e-03       0.00000   \n",
              "property_type_Castle                               0.000000e+00       0.00000   \n",
              "property_type_Entire condominium (condo)           1.656543e-01       0.00000   \n",
              "property_type_Entire cottage                       4.615688e-02       0.00000   \n",
              "property_type_Entire guest suite                   7.682562e-02       0.00000   \n",
              "property_type_Entire guesthouse                    4.325570e-02       0.00000   \n",
              "property_type_Entire loft                          2.660573e-01       0.00000   \n",
              "property_type_Entire rental unit                   4.928366e-01       0.00000   \n",
              "property_type_Entire residential home              1.915786e-01       0.00000   \n",
              "property_type_Entire serviced apartment            7.984115e-02       0.00000   \n",
              "property_type_Entire townhouse                     1.895647e-01       0.00000   \n",
              "property_type_Entire vacation home                 5.801335e-03       0.00000   \n",
              "property_type_Entire villa                         1.756613e-02       0.00000   \n",
              "property_type_Houseboat                            2.618499e-02       0.00000   \n",
              "property_type_Private room                         8.528491e-02       0.00000   \n",
              "property_type_Private room in bed and breakfast    8.490880e-02       0.00000   \n",
              "property_type_Private room in boat                 5.110512e-02       0.00000   \n",
              "property_type_Private room in casa particular      7.055842e-03       0.00000   \n",
              "property_type_Private room in condominium (condo)  5.598951e-02       0.00000   \n",
              "property_type_Private room in guest suite          5.366343e-02       0.00000   \n",
              "property_type_Private room in guesthouse           9.023130e-02       0.00000   \n",
              "property_type_Private room in loft                 6.074104e-02       0.00000   \n",
              "property_type_Private room in religious building   1.499694e-02       0.00000   \n",
              "property_type_Private room in rental unit          2.078417e-01       0.00000   \n",
              "property_type_Private room in residential home     2.147475e-01       0.00000   \n",
              "property_type_Private room in serviced apartment   0.000000e+00       0.00000   \n",
              "property_type_Private room in townhouse            2.332591e-01       0.00000   \n",
              "property_type_Private room in villa                0.000000e+00       0.00000   \n",
              "property_type_Room in aparthotel                   5.480536e-02       0.00000   \n",
              "property_type_Room in boutique hotel               1.446197e-01       0.00000   \n",
              "property_type_Room in hotel                        2.025679e-02       0.00000   \n",
              "property_type_Shared room in bed and breakfast     0.000000e+00       0.00000   \n",
              "property_type_Shared room in casa particular       5.801335e-03       0.00000   \n",
              "property_type_Shared room in loft                  0.000000e+00       0.00000   \n",
              "property_type_Shared room in residential home      4.463136e-02       0.00000   \n",
              "property_type_Tent                                 5.695161e-03       0.00000   \n",
              "property_type_Tiny house                           3.322580e-02       0.00000   \n",
              "property_type_Yurt                                 5.449531e-02       0.00000   \n",
              "room_type_Entire home/apt                          4.092534e-01       0.00000   \n",
              "room_type_Hotel room                               3.075748e-02       0.00000   \n",
              "room_type_Private room                             4.071480e-01       0.00000   \n",
              "room_type_Shared room                              4.500533e-02       0.00000   \n",
              "calender_id                                        9.230433e+04       1.00000   \n",
              "available                                          4.980276e-01       0.00000   \n",
              "price                                              1.175237e+02      14.00000   \n",
              "adjusted_price                                     4.272181e+01      14.00000   \n",
              "minimum_nights                                     8.370485e+00       1.00000   \n",
              "maximum_nights                                     8.305506e+02       1.00000   \n",
              "adjusted_price_log                                 4.732476e-01       2.70805   \n",
              "review_id                                          1.814675e+04       1.00000   \n",
              "reviewer_id                                        1.133122e+08     515.00000   \n",
              "\n",
              "                                                            25%           50%  \\\n",
              "listing_id                                         1.001510e+07  2.165832e+07   \n",
              "latitude                                           5.121157e+01  5.121865e+01   \n",
              "longitude                                          4.402130e+00  4.408870e+00   \n",
              "accomodates                                        2.000000e+00  3.000000e+00   \n",
              "bedrooms                                           1.000000e+00  1.000000e+00   \n",
              "beds                                               1.000000e+00  2.000000e+00   \n",
              "host_id                                            1.599483e+07  4.894307e+07   \n",
              "property_type_Boat                                 0.000000e+00  0.000000e+00   \n",
              "property_type_Casa particular                      0.000000e+00  0.000000e+00   \n",
              "property_type_Castle                               0.000000e+00  0.000000e+00   \n",
              "property_type_Entire condominium (condo)           0.000000e+00  0.000000e+00   \n",
              "property_type_Entire cottage                       0.000000e+00  0.000000e+00   \n",
              "property_type_Entire guest suite                   0.000000e+00  0.000000e+00   \n",
              "property_type_Entire guesthouse                    0.000000e+00  0.000000e+00   \n",
              "property_type_Entire loft                          0.000000e+00  0.000000e+00   \n",
              "property_type_Entire rental unit                   0.000000e+00  1.000000e+00   \n",
              "property_type_Entire residential home              0.000000e+00  0.000000e+00   \n",
              "property_type_Entire serviced apartment            0.000000e+00  0.000000e+00   \n",
              "property_type_Entire townhouse                     0.000000e+00  0.000000e+00   \n",
              "property_type_Entire vacation home                 0.000000e+00  0.000000e+00   \n",
              "property_type_Entire villa                         0.000000e+00  0.000000e+00   \n",
              "property_type_Houseboat                            0.000000e+00  0.000000e+00   \n",
              "property_type_Private room                         0.000000e+00  0.000000e+00   \n",
              "property_type_Private room in bed and breakfast    0.000000e+00  0.000000e+00   \n",
              "property_type_Private room in boat                 0.000000e+00  0.000000e+00   \n",
              "property_type_Private room in casa particular      0.000000e+00  0.000000e+00   \n",
              "property_type_Private room in condominium (condo)  0.000000e+00  0.000000e+00   \n",
              "property_type_Private room in guest suite          0.000000e+00  0.000000e+00   \n",
              "property_type_Private room in guesthouse           0.000000e+00  0.000000e+00   \n",
              "property_type_Private room in loft                 0.000000e+00  0.000000e+00   \n",
              "property_type_Private room in religious building   0.000000e+00  0.000000e+00   \n",
              "property_type_Private room in rental unit          0.000000e+00  0.000000e+00   \n",
              "property_type_Private room in residential home     0.000000e+00  0.000000e+00   \n",
              "property_type_Private room in serviced apartment   0.000000e+00  0.000000e+00   \n",
              "property_type_Private room in townhouse            0.000000e+00  0.000000e+00   \n",
              "property_type_Private room in villa                0.000000e+00  0.000000e+00   \n",
              "property_type_Room in aparthotel                   0.000000e+00  0.000000e+00   \n",
              "property_type_Room in boutique hotel               0.000000e+00  0.000000e+00   \n",
              "property_type_Room in hotel                        0.000000e+00  0.000000e+00   \n",
              "property_type_Shared room in bed and breakfast     0.000000e+00  0.000000e+00   \n",
              "property_type_Shared room in casa particular       0.000000e+00  0.000000e+00   \n",
              "property_type_Shared room in loft                  0.000000e+00  0.000000e+00   \n",
              "property_type_Shared room in residential home      0.000000e+00  0.000000e+00   \n",
              "property_type_Tent                                 0.000000e+00  0.000000e+00   \n",
              "property_type_Tiny house                           0.000000e+00  0.000000e+00   \n",
              "property_type_Yurt                                 0.000000e+00  0.000000e+00   \n",
              "room_type_Entire home/apt                          1.000000e+00  1.000000e+00   \n",
              "room_type_Hotel room                               0.000000e+00  0.000000e+00   \n",
              "room_type_Private room                             0.000000e+00  0.000000e+00   \n",
              "room_type_Shared room                              0.000000e+00  0.000000e+00   \n",
              "calender_id                                        7.955400e+04  1.590530e+05   \n",
              "available                                          0.000000e+00  1.000000e+00   \n",
              "price                                              5.500000e+01  7.000000e+01   \n",
              "adjusted_price                                     5.500000e+01  7.000000e+01   \n",
              "minimum_nights                                     1.000000e+00  2.000000e+00   \n",
              "maximum_nights                                     1.125000e+03  1.125000e+03   \n",
              "adjusted_price_log                                 4.025352e+00  4.262680e+00   \n",
              "review_id                                          1.589200e+04  3.156800e+04   \n",
              "reviewer_id                                        2.437244e+07  7.239499e+07   \n",
              "\n",
              "                                                            75%           90%  \\\n",
              "listing_id                                         3.390546e+07  4.375509e+07   \n",
              "latitude                                           5.122224e+01  5.122570e+01   \n",
              "longitude                                          4.421600e+00  4.434460e+00   \n",
              "accomodates                                        4.000000e+00  6.000000e+00   \n",
              "bedrooms                                           2.000000e+00  2.000000e+00   \n",
              "beds                                               3.000000e+00  4.000000e+00   \n",
              "host_id                                            1.654369e+08  2.303694e+08   \n",
              "property_type_Boat                                 0.000000e+00  0.000000e+00   \n",
              "property_type_Casa particular                      0.000000e+00  0.000000e+00   \n",
              "property_type_Castle                               0.000000e+00  0.000000e+00   \n",
              "property_type_Entire condominium (condo)           0.000000e+00  0.000000e+00   \n",
              "property_type_Entire cottage                       0.000000e+00  0.000000e+00   \n",
              "property_type_Entire guest suite                   0.000000e+00  0.000000e+00   \n",
              "property_type_Entire guesthouse                    0.000000e+00  0.000000e+00   \n",
              "property_type_Entire loft                          0.000000e+00  0.000000e+00   \n",
              "property_type_Entire rental unit                   1.000000e+00  1.000000e+00   \n",
              "property_type_Entire residential home              0.000000e+00  0.000000e+00   \n",
              "property_type_Entire serviced apartment            0.000000e+00  0.000000e+00   \n",
              "property_type_Entire townhouse                     0.000000e+00  0.000000e+00   \n",
              "property_type_Entire vacation home                 0.000000e+00  0.000000e+00   \n",
              "property_type_Entire villa                         0.000000e+00  0.000000e+00   \n",
              "property_type_Houseboat                            0.000000e+00  0.000000e+00   \n",
              "property_type_Private room                         0.000000e+00  0.000000e+00   \n",
              "property_type_Private room in bed and breakfast    0.000000e+00  0.000000e+00   \n",
              "property_type_Private room in boat                 0.000000e+00  0.000000e+00   \n",
              "property_type_Private room in casa particular      0.000000e+00  0.000000e+00   \n",
              "property_type_Private room in condominium (condo)  0.000000e+00  0.000000e+00   \n",
              "property_type_Private room in guest suite          0.000000e+00  0.000000e+00   \n",
              "property_type_Private room in guesthouse           0.000000e+00  0.000000e+00   \n",
              "property_type_Private room in loft                 0.000000e+00  0.000000e+00   \n",
              "property_type_Private room in religious building   0.000000e+00  0.000000e+00   \n",
              "property_type_Private room in rental unit          0.000000e+00  0.000000e+00   \n",
              "property_type_Private room in residential home     0.000000e+00  0.000000e+00   \n",
              "property_type_Private room in serviced apartment   0.000000e+00  0.000000e+00   \n",
              "property_type_Private room in townhouse            0.000000e+00  0.000000e+00   \n",
              "property_type_Private room in villa                0.000000e+00  0.000000e+00   \n",
              "property_type_Room in aparthotel                   0.000000e+00  0.000000e+00   \n",
              "property_type_Room in boutique hotel               0.000000e+00  0.000000e+00   \n",
              "property_type_Room in hotel                        0.000000e+00  0.000000e+00   \n",
              "property_type_Shared room in bed and breakfast     0.000000e+00  0.000000e+00   \n",
              "property_type_Shared room in casa particular       0.000000e+00  0.000000e+00   \n",
              "property_type_Shared room in loft                  0.000000e+00  0.000000e+00   \n",
              "property_type_Shared room in residential home      0.000000e+00  0.000000e+00   \n",
              "property_type_Tent                                 0.000000e+00  0.000000e+00   \n",
              "property_type_Tiny house                           0.000000e+00  0.000000e+00   \n",
              "property_type_Yurt                                 0.000000e+00  0.000000e+00   \n",
              "room_type_Entire home/apt                          1.000000e+00  1.000000e+00   \n",
              "room_type_Hotel room                               0.000000e+00  0.000000e+00   \n",
              "room_type_Private room                             0.000000e+00  1.000000e+00   \n",
              "room_type_Shared room                              0.000000e+00  0.000000e+00   \n",
              "calender_id                                        2.394860e+05  2.875700e+05   \n",
              "available                                          1.000000e+00  1.000000e+00   \n",
              "price                                              9.900000e+01  1.500000e+02   \n",
              "adjusted_price                                     9.900000e+01  1.500000e+02   \n",
              "minimum_nights                                     2.000000e+00  3.000000e+00   \n",
              "maximum_nights                                     1.125000e+03  1.125000e+03   \n",
              "adjusted_price_log                                 4.605170e+00  5.017280e+00   \n",
              "review_id                                          4.718500e+04  5.670000e+04   \n",
              "reviewer_id                                        1.783897e+08  2.948805e+08   \n",
              "\n",
              "                                                            95%           max  \\\n",
              "listing_id                                         4.819350e+07  5.382519e+07   \n",
              "latitude                                           5.122868e+01  5.134940e+01   \n",
              "longitude                                          4.444640e+00  4.483470e+00   \n",
              "accomodates                                        9.000000e+00  1.600000e+01   \n",
              "bedrooms                                           3.000000e+00  1.100000e+01   \n",
              "beds                                               5.000000e+00  2.500000e+01   \n",
              "host_id                                            3.142372e+08  4.359994e+08   \n",
              "property_type_Boat                                 0.000000e+00  0.000000e+00   \n",
              "property_type_Casa particular                      0.000000e+00  1.000000e+00   \n",
              "property_type_Castle                               0.000000e+00  0.000000e+00   \n",
              "property_type_Entire condominium (condo)           0.000000e+00  1.000000e+00   \n",
              "property_type_Entire cottage                       0.000000e+00  1.000000e+00   \n",
              "property_type_Entire guest suite                   0.000000e+00  1.000000e+00   \n",
              "property_type_Entire guesthouse                    0.000000e+00  1.000000e+00   \n",
              "property_type_Entire loft                          1.000000e+00  1.000000e+00   \n",
              "property_type_Entire rental unit                   1.000000e+00  1.000000e+00   \n",
              "property_type_Entire residential home              0.000000e+00  1.000000e+00   \n",
              "property_type_Entire serviced apartment            0.000000e+00  1.000000e+00   \n",
              "property_type_Entire townhouse                     0.000000e+00  1.000000e+00   \n",
              "property_type_Entire vacation home                 0.000000e+00  1.000000e+00   \n",
              "property_type_Entire villa                         0.000000e+00  1.000000e+00   \n",
              "property_type_Houseboat                            0.000000e+00  1.000000e+00   \n",
              "property_type_Private room                         0.000000e+00  1.000000e+00   \n",
              "property_type_Private room in bed and breakfast    0.000000e+00  1.000000e+00   \n",
              "property_type_Private room in boat                 0.000000e+00  1.000000e+00   \n",
              "property_type_Private room in casa particular      0.000000e+00  1.000000e+00   \n",
              "property_type_Private room in condominium (condo)  0.000000e+00  1.000000e+00   \n",
              "property_type_Private room in guest suite          0.000000e+00  1.000000e+00   \n",
              "property_type_Private room in guesthouse           0.000000e+00  1.000000e+00   \n",
              "property_type_Private room in loft                 0.000000e+00  1.000000e+00   \n",
              "property_type_Private room in religious building   0.000000e+00  1.000000e+00   \n",
              "property_type_Private room in rental unit          0.000000e+00  1.000000e+00   \n",
              "property_type_Private room in residential home     0.000000e+00  1.000000e+00   \n",
              "property_type_Private room in serviced apartment   0.000000e+00  0.000000e+00   \n",
              "property_type_Private room in townhouse            1.000000e+00  1.000000e+00   \n",
              "property_type_Private room in villa                0.000000e+00  0.000000e+00   \n",
              "property_type_Room in aparthotel                   0.000000e+00  1.000000e+00   \n",
              "property_type_Room in boutique hotel               0.000000e+00  1.000000e+00   \n",
              "property_type_Room in hotel                        0.000000e+00  1.000000e+00   \n",
              "property_type_Shared room in bed and breakfast     0.000000e+00  0.000000e+00   \n",
              "property_type_Shared room in casa particular       0.000000e+00  1.000000e+00   \n",
              "property_type_Shared room in loft                  0.000000e+00  0.000000e+00   \n",
              "property_type_Shared room in residential home      0.000000e+00  1.000000e+00   \n",
              "property_type_Tent                                 0.000000e+00  1.000000e+00   \n",
              "property_type_Tiny house                           0.000000e+00  1.000000e+00   \n",
              "property_type_Yurt                                 0.000000e+00  1.000000e+00   \n",
              "room_type_Entire home/apt                          1.000000e+00  1.000000e+00   \n",
              "room_type_Hotel room                               0.000000e+00  1.000000e+00   \n",
              "room_type_Private room                             1.000000e+00  1.000000e+00   \n",
              "room_type_Shared room                              0.000000e+00  1.000000e+00   \n",
              "calender_id                                        3.034800e+05  3.191920e+05   \n",
              "available                                          1.000000e+00  1.000000e+00   \n",
              "price                                              2.000000e+02  5.800000e+03   \n",
              "adjusted_price                                     1.990000e+02  2.005000e+02   \n",
              "minimum_nights                                     7.000000e+00  3.000000e+02   \n",
              "maximum_nights                                     1.125000e+03  9.999000e+03   \n",
              "adjusted_price_log                                 5.298317e+00  5.305789e+00   \n",
              "review_id                                          5.983100e+04  6.298700e+04   \n",
              "reviewer_id                                        3.657651e+08  4.367984e+08   \n",
              "\n",
              "                                                   #unique_values  \\\n",
              "listing_id                                                   1525   \n",
              "latitude                                                     1211   \n",
              "longitude                                                    1309   \n",
              "accomodates                                                    15   \n",
              "bedrooms                                                        9   \n",
              "beds                                                           15   \n",
              "host_id                                                       987   \n",
              "property_type_Boat                                              1   \n",
              "property_type_Casa particular                                   2   \n",
              "property_type_Castle                                            1   \n",
              "property_type_Entire condominium (condo)                        2   \n",
              "property_type_Entire cottage                                    2   \n",
              "property_type_Entire guest suite                                2   \n",
              "property_type_Entire guesthouse                                 2   \n",
              "property_type_Entire loft                                       2   \n",
              "property_type_Entire rental unit                                2   \n",
              "property_type_Entire residential home                           2   \n",
              "property_type_Entire serviced apartment                         2   \n",
              "property_type_Entire townhouse                                  2   \n",
              "property_type_Entire vacation home                              2   \n",
              "property_type_Entire villa                                      2   \n",
              "property_type_Houseboat                                         2   \n",
              "property_type_Private room                                      2   \n",
              "property_type_Private room in bed and breakfast                 2   \n",
              "property_type_Private room in boat                              2   \n",
              "property_type_Private room in casa particular                   2   \n",
              "property_type_Private room in condominium (condo)               2   \n",
              "property_type_Private room in guest suite                       2   \n",
              "property_type_Private room in guesthouse                        2   \n",
              "property_type_Private room in loft                              2   \n",
              "property_type_Private room in religious building                2   \n",
              "property_type_Private room in rental unit                       2   \n",
              "property_type_Private room in residential home                  2   \n",
              "property_type_Private room in serviced apartment                1   \n",
              "property_type_Private room in townhouse                         2   \n",
              "property_type_Private room in villa                             1   \n",
              "property_type_Room in aparthotel                                2   \n",
              "property_type_Room in boutique hotel                            2   \n",
              "property_type_Room in hotel                                     2   \n",
              "property_type_Shared room in bed and breakfast                  1   \n",
              "property_type_Shared room in casa particular                    2   \n",
              "property_type_Shared room in loft                               1   \n",
              "property_type_Shared room in residential home                   2   \n",
              "property_type_Tent                                              2   \n",
              "property_type_Tiny house                                        2   \n",
              "property_type_Yurt                                              2   \n",
              "room_type_Entire home/apt                                       2   \n",
              "room_type_Hotel room                                            2   \n",
              "room_type_Private room                                          2   \n",
              "room_type_Shared room                                           2   \n",
              "calender_id                                                278088   \n",
              "available                                                       2   \n",
              "price                                                         559   \n",
              "adjusted_price                                                188   \n",
              "minimum_nights                                                 30   \n",
              "maximum_nights                                                206   \n",
              "adjusted_price_log                                            188   \n",
              "review_id                                                   62987   \n",
              "reviewer_id                                                 58438   \n",
              "\n",
              "                                                   percentage_missng_values  \n",
              "listing_id                                                         0.000000  \n",
              "latitude                                                           0.000000  \n",
              "longitude                                                          0.000000  \n",
              "accomodates                                                        0.000000  \n",
              "bedrooms                                                           0.000000  \n",
              "beds                                                               0.000000  \n",
              "host_id                                                            0.000000  \n",
              "property_type_Boat                                                 0.000000  \n",
              "property_type_Casa particular                                      0.000000  \n",
              "property_type_Castle                                               0.000000  \n",
              "property_type_Entire condominium (condo)                           0.000000  \n",
              "property_type_Entire cottage                                       0.000000  \n",
              "property_type_Entire guest suite                                   0.000000  \n",
              "property_type_Entire guesthouse                                    0.000000  \n",
              "property_type_Entire loft                                          0.000000  \n",
              "property_type_Entire rental unit                                   0.000000  \n",
              "property_type_Entire residential home                              0.000000  \n",
              "property_type_Entire serviced apartment                            0.000000  \n",
              "property_type_Entire townhouse                                     0.000000  \n",
              "property_type_Entire vacation home                                 0.000000  \n",
              "property_type_Entire villa                                         0.000000  \n",
              "property_type_Houseboat                                            0.000000  \n",
              "property_type_Private room                                         0.000000  \n",
              "property_type_Private room in bed and breakfast                    0.000000  \n",
              "property_type_Private room in boat                                 0.000000  \n",
              "property_type_Private room in casa particular                      0.000000  \n",
              "property_type_Private room in condominium (condo)                  0.000000  \n",
              "property_type_Private room in guest suite                          0.000000  \n",
              "property_type_Private room in guesthouse                           0.000000  \n",
              "property_type_Private room in loft                                 0.000000  \n",
              "property_type_Private room in religious building                   0.000000  \n",
              "property_type_Private room in rental unit                          0.000000  \n",
              "property_type_Private room in residential home                     0.000000  \n",
              "property_type_Private room in serviced apartment                   0.000000  \n",
              "property_type_Private room in townhouse                            0.000000  \n",
              "property_type_Private room in villa                                0.000000  \n",
              "property_type_Room in aparthotel                                   0.000000  \n",
              "property_type_Room in boutique hotel                               0.000000  \n",
              "property_type_Room in hotel                                        0.000000  \n",
              "property_type_Shared room in bed and breakfast                     0.000000  \n",
              "property_type_Shared room in casa particular                       0.000000  \n",
              "property_type_Shared room in loft                                  0.000000  \n",
              "property_type_Shared room in residential home                      0.000000  \n",
              "property_type_Tent                                                 0.000000  \n",
              "property_type_Tiny house                                           0.000000  \n",
              "property_type_Yurt                                                 0.000000  \n",
              "room_type_Entire home/apt                                          0.000000  \n",
              "room_type_Hotel room                                               0.000000  \n",
              "room_type_Private room                                             0.000000  \n",
              "room_type_Shared room                                              0.000000  \n",
              "calender_id                                                        0.000000  \n",
              "available                                                          0.000000  \n",
              "price                                                              0.004325  \n",
              "adjusted_price                                                     0.000000  \n",
              "minimum_nights                                                     0.000000  \n",
              "maximum_nights                                                     0.000000  \n",
              "adjusted_price_log                                                 0.000000  \n",
              "review_id                                                          0.000000  \n",
              "reviewer_id                                                        0.000000  "
            ]
          },
          "execution_count": 64,
          "metadata": {},
          "output_type": "execute_result"
        }
      ],
      "source": [
        "num_stats = merged_data[num_cols].describe(percentiles=[0.25, 0.75, 0.90, 0.95]).transpose()\n",
        "num_stats['#unique_values'] = merged_data[num_cols].nunique()\n",
        "num_stats['percentage_missng_values'] = merged_data[num_cols].isnull().mean() * 100\n",
        "\n",
        "# Data Quality Report\n",
        "print('Continuous Variables:\\n')\n",
        "num_stats"
      ]
    },
    {
      "cell_type": "markdown",
      "id": "be1cc077",
      "metadata": {
        "id": "be1cc077"
      },
      "source": [
        "**Categorical Variables Analysis**"
      ]
    },
    {
      "cell_type": "code",
      "execution_count": null,
      "id": "46c15300",
      "metadata": {
        "id": "46c15300",
        "outputId": "12643d25-477b-4f52-81a0-3bcaf542c741"
      },
      "outputs": [
        {
          "name": "stdout",
          "output_type": "stream",
          "text": [
            "Categorical Variables:\n",
            "\n"
          ]
        },
        {
          "data": {
            "text/html": [
              "<div>\n",
              "<style scoped>\n",
              "    .dataframe tbody tr th:only-of-type {\n",
              "        vertical-align: middle;\n",
              "    }\n",
              "\n",
              "    .dataframe tbody tr th {\n",
              "        vertical-align: top;\n",
              "    }\n",
              "\n",
              "    .dataframe thead th {\n",
              "        text-align: right;\n",
              "    }\n",
              "</style>\n",
              "<table border=\"1\" class=\"dataframe\">\n",
              "  <thead>\n",
              "    <tr style=\"text-align: right;\">\n",
              "      <th></th>\n",
              "      <th>#unique_values</th>\n",
              "      <th>percentage_missing_values</th>\n",
              "    </tr>\n",
              "  </thead>\n",
              "  <tbody>\n",
              "    <tr>\n",
              "      <th>listing_url</th>\n",
              "      <td>1525</td>\n",
              "      <td>0.000000</td>\n",
              "    </tr>\n",
              "    <tr>\n",
              "      <th>name</th>\n",
              "      <td>1494</td>\n",
              "      <td>0.000000</td>\n",
              "    </tr>\n",
              "    <tr>\n",
              "      <th>description</th>\n",
              "      <td>1367</td>\n",
              "      <td>1.070298</td>\n",
              "    </tr>\n",
              "    <tr>\n",
              "      <th>bathrooms_text</th>\n",
              "      <td>22</td>\n",
              "      <td>0.000000</td>\n",
              "    </tr>\n",
              "    <tr>\n",
              "      <th>amenities</th>\n",
              "      <td>1453</td>\n",
              "      <td>0.000000</td>\n",
              "    </tr>\n",
              "    <tr>\n",
              "      <th>host_name</th>\n",
              "      <td>676</td>\n",
              "      <td>0.000000</td>\n",
              "    </tr>\n",
              "    <tr>\n",
              "      <th>host_location</th>\n",
              "      <td>138</td>\n",
              "      <td>0.256854</td>\n",
              "    </tr>\n",
              "    <tr>\n",
              "      <th>host_about</th>\n",
              "      <td>463</td>\n",
              "      <td>37.889045</td>\n",
              "    </tr>\n",
              "    <tr>\n",
              "      <th>reviewer_name</th>\n",
              "      <td>13605</td>\n",
              "      <td>0.000000</td>\n",
              "    </tr>\n",
              "    <tr>\n",
              "      <th>comments</th>\n",
              "      <td>61442</td>\n",
              "      <td>0.102147</td>\n",
              "    </tr>\n",
              "  </tbody>\n",
              "</table>\n",
              "</div>"
            ],
            "text/plain": [
              "                #unique_values  percentage_missing_values\n",
              "listing_url               1525                   0.000000\n",
              "name                      1494                   0.000000\n",
              "description               1367                   1.070298\n",
              "bathrooms_text              22                   0.000000\n",
              "amenities                 1453                   0.000000\n",
              "host_name                  676                   0.000000\n",
              "host_location              138                   0.256854\n",
              "host_about                 463                  37.889045\n",
              "reviewer_name            13605                   0.000000\n",
              "comments                 61442                   0.102147"
            ]
          },
          "execution_count": 65,
          "metadata": {},
          "output_type": "execute_result"
        }
      ],
      "source": [
        "cat_stats = pd.DataFrame(index=cat_cols)\n",
        "cat_stats['#unique_values'] = merged_data[cat_cols].nunique()\n",
        "cat_stats['percentage_missing_values'] = merged_data[cat_cols].isnull().mean() * 100\n",
        "\n",
        "# Data Quality Reoport\n",
        "print('Categorical Variables:\\n')\n",
        "cat_stats"
      ]
    },
    {
      "cell_type": "code",
      "execution_count": null,
      "id": "5ef29099",
      "metadata": {
        "id": "5ef29099"
      },
      "outputs": [],
      "source": []
    }
  ],
  "metadata": {
    "kernelspec": {
      "display_name": "Python 3 (ipykernel)",
      "language": "python",
      "name": "python3"
    },
    "language_info": {
      "codemirror_mode": {
        "name": "ipython",
        "version": 3
      },
      "file_extension": ".py",
      "mimetype": "text/x-python",
      "name": "python",
      "nbconvert_exporter": "python",
      "pygments_lexer": "ipython3",
      "version": "3.11.5"
    },
    "colab": {
      "provenance": [],
      "include_colab_link": true
    }
  },
  "nbformat": 4,
  "nbformat_minor": 5
}